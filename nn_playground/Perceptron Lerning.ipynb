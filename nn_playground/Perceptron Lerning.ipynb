{
 "cells": [
  {
   "cell_type": "markdown",
   "metadata": {},
   "source": [
    "# Perceptron learning - Example"
   ]
  },
  {
   "cell_type": "code",
   "execution_count": 1,
   "metadata": {
    "collapsed": false,
    "scrolled": true
   },
   "outputs": [
    {
     "name": "stdout",
     "output_type": "stream",
     "text": [
      "Matrix \n",
      " [[0 0 0]\n",
      " [0 1 1]\n",
      " [1 0 1]]\n",
      "Output \n",
      " [0 0 1]\n",
      "Weights \n",
      " [-0.7953433  -0.01511515  1.        ]\n"
     ]
    }
   ],
   "source": [
    "import numpy as np\n",
    "import pandas as pd\n",
    "import random\n",
    "\n",
    "#xor matrix\n",
    "input_matrix =  np.array([[0,0,0],[0,1,1],[1,0,1]])\n",
    "\n",
    "#xor output\n",
    "output = np.array([0,0,1]).T\n",
    "weights_init = (2*np.random.random((2,1)) - 1)[:,0]\n",
    "weights_init = np.append(weights_init,1)\n",
    "\n",
    "print (\"Matrix \\n\", input_matrix)\n",
    "print(\"Output \\n\", output)\n",
    "print(\"Weights \\n\", weights_init)\n"
   ]
  },
  {
   "cell_type": "markdown",
   "metadata": {},
   "source": [
    "# Step function\n",
    "Helps us check if the weight vector and the input vector are pointing in the same direction. <br\\>\n",
    "                                   \n",
    "`w.x > 0 - same direction` <br\\>\n",
    "`w.x < 0 - opposite direction`<br\\>\n"
   ]
  },
  {
   "cell_type": "code",
   "execution_count": 2,
   "metadata": {
    "collapsed": false
   },
   "outputs": [],
   "source": [
    "#activation function\n",
    "def step_function(output_vector):\n",
    "    result = np.zeros(len(output_vector))\n",
    "    max_len = len(output_vector)\n",
    "    i=0\n",
    "    for o in output_vector:\n",
    "        if o <0:result[i] = 0\n",
    "        elif o>0:result[i]=1\n",
    "        i=i+1\n",
    "    return np.array(result)\n"
   ]
  },
  {
   "cell_type": "code",
   "execution_count": 3,
   "metadata": {
    "collapsed": false
   },
   "outputs": [],
   "source": [
    "def perceptron_learning():\n",
    "    pred_y = 0\n",
    "    weights = weights_init\n",
    "    class_error = 100\n",
    "    while class_error>0.5: \n",
    "        w_dot_i = np.dot(weights,input_matrix.T)\n",
    "        computed_output = step_function(w_dot_i)\n",
    "        output_delta =  output - computed_output\n",
    "        class_error = float(classification_error(computed_output,output))\n",
    "        w_delta = np.dot(output_delta,input_matrix)\n",
    "        weights = weights + w_delta\n",
    "    return weights\n",
    "\n",
    "def classification_error(computed_output,output):\n",
    "    total_correct = np.sum(computed_output == output) \n",
    "    total_incorrect = np.sum(computed_output!=output)\n",
    "    pc_correct = total_incorrect/len(output)\n",
    "    return pc_correct"
   ]
  },
  {
   "cell_type": "code",
   "execution_count": 4,
   "metadata": {
    "collapsed": false
   },
   "outputs": [
    {
     "name": "stdout",
     "output_type": "stream",
     "text": [
      "computed weights [-0.7953433  -1.01511515  0.        ]\n"
     ]
    }
   ],
   "source": [
    "w = perceptron_learning()\n",
    "print(\"computed weights\",w)"
   ]
  },
  {
   "cell_type": "code",
   "execution_count": 5,
   "metadata": {
    "collapsed": false
   },
   "outputs": [
    {
     "name": "stdout",
     "output_type": "stream",
     "text": [
      "Result of output  0.0\n"
     ]
    }
   ],
   "source": [
    "print(\"Result of output \", step_function([np.dot(w,[1,1,0])])[0])"
   ]
  },
  {
   "cell_type": "code",
   "execution_count": null,
   "metadata": {
    "collapsed": true
   },
   "outputs": [],
   "source": []
  }
 ],
 "metadata": {
  "kernelspec": {
   "display_name": "Python 3",
   "language": "python",
   "name": "python3"
  },
  "language_info": {
   "codemirror_mode": {
    "name": "ipython",
    "version": 3
   },
   "file_extension": ".py",
   "mimetype": "text/x-python",
   "name": "python",
   "nbconvert_exporter": "python",
   "pygments_lexer": "ipython3",
   "version": "3.5.1"
  }
 },
 "nbformat": 4,
 "nbformat_minor": 1
}
