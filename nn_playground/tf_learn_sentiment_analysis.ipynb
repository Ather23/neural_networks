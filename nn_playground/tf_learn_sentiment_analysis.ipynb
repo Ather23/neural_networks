{
 "cells": [
  {
   "cell_type": "markdown",
   "metadata": {},
   "source": [
    "# Sentiment Analysis using twitter data\n",
    "\n",
    "Simple Deep Neural Network, that predicts tweet sentiment. The model can be greatly improved using various <br/>\n",
    "word vectorization techniques and Recurrent Neural Networks.\n"
   ]
  },
  {
   "cell_type": "code",
   "execution_count": 21,
   "metadata": {
    "collapsed": true
   },
   "outputs": [],
   "source": [
    "from sklearn.feature_extraction.text import CountVectorizer\n",
    "import pandas as pd\n",
    "from sklearn.model_selection import train_test_split\n",
    "import tflearn as tflearn\n",
    "from nltk.corpus import stopwords\n",
    "import preprocessor as p\n",
    "import re\n",
    "import numpy as np\n",
    "from sklearn import preprocessing\n"
   ]
  },
  {
   "cell_type": "code",
   "execution_count": 22,
   "metadata": {
    "collapsed": false
   },
   "outputs": [],
   "source": [
    "\n",
    "def all_stop_words():\n",
    "    stop_words = stopwords.words('english')\n",
    "    add_stopwords = [\",\", \"*\" , \")\" , \"(\" ,\".\",\"theres\",\"know\",\"one\",\"though\",\"vinci\",\"ive\",\"da\",\"book\",\"im\",\"went\",\n",
    "                    \"potter\",\"brokeback\",\"mountain\",\"harry\",\"code\",\"mission\",\"impossible\",\"movie\",\"movies\",\"i\",\"ya\",\n",
    "                    \"yet\",\"yall\"]\n",
    "    for w in add_stopwords:\n",
    "        stop_words.append(w)\n",
    "    return stop_words\n",
    "\n",
    "\n",
    "stop_words = all_stop_words()\n",
    "def training_data_df():\n",
    "    \n",
    "    training_data = open(\"./data/twitter_data.txt\",mode='r')\n",
    "    training_array =[]\n",
    "    for d in training_data:\n",
    "        training_dict = {}\n",
    "        sent_tweet_array = d.split('\\t')\n",
    "        training_dict['tweet'] = sent_tweet_array[1].lower()\n",
    "        training_dict['cleaned_tweet'] =remove_stop_words(sent_tweet_array[1].lower())\n",
    "        training_dict['positive'] =int(sent_tweet_array[0])\n",
    "        training_array.append(training_dict)\n",
    "    training_df = pd.DataFrame(training_array)\n",
    "    return training_df\n",
    "\n",
    "def sentiment(sentiment_prob):\n",
    "    if sentiment_prob[0]>sentiment_prob[1]:\n",
    "        return \"positive\"\n",
    "    return \"negative\"\n",
    "\n",
    "def remove_stop_words(tweet_text):\n",
    "    tweet_text = re.sub(r'[?|$|.|!]',r'',tweet_text)\n",
    "    tweet_text = re.sub(r'[^a-zA-Z0-9 ]',r'',tweet_text)\n",
    "    result = \"\"\n",
    "    for word in tweet_text.split():            \n",
    "        if word not in stop_words:\n",
    "            result = result +\" \"+word.lower()\n",
    "\n",
    "    return result.lstrip()\n",
    "\n",
    "def get_word_frequency(tweet_list):\n",
    "    word_dict = {} \n",
    "    result_array=[]\n",
    "    for tw in tweet_list:\n",
    "        for word in tw.split():\n",
    "            if word in word_dict.keys():\n",
    "                word_dict[word] = word_dict[word]+1\n",
    "                continue\n",
    "            word_dict[word] = 1\n",
    "    for k in word_dict.keys():\n",
    "        result_array.append({'word':k, 'count':word_dict[k]})\n",
    "    return pd.DataFrame(result_array,columns=['count','word'])\n",
    "\n",
    "\n",
    "def common_pos_words(df_data):\n",
    "    return common_words_filter(df_data,1)\n",
    "\n",
    "def common_neg_words(df_data):\n",
    "    return common_words_filter(df_data,0)\n",
    "\n",
    "def common_words_filter(df_data,sent):\n",
    "    pos_tweet =df_data[df_data[\"positive\"] ==sent]\n",
    "    all_tweets = pos_tweet[\"tweet\"].str.cat(sep='|')\n",
    "    common_words=[]\n",
    "    for pos_tw in pos_tweet[\"tweet\"]:\n",
    "        for tw in all_tweets.split('|'):\n",
    "            if pos_tw == tw:\n",
    "                continue\n",
    "            tw_list = list(tw.split())\n",
    "            pos_list = list(pos_tw.split())\n",
    "            inter = list(set(tw_list).intersection(pos_list))\n",
    "            for word in inter:\n",
    "                if word not in common_words:\n",
    "                    common_words.append(word)\n",
    "    return common_words"
   ]
  },
  {
   "cell_type": "code",
   "execution_count": 23,
   "metadata": {
    "collapsed": false
   },
   "outputs": [
    {
     "name": "stdout",
     "output_type": "stream",
     "text": [
      "All data: 7086\n"
     ]
    }
   ],
   "source": [
    "training_data = training_data_df()\n",
    "training_data[\"neg\"] = training_data[\"positive\"].apply(lambda x: 0 if x==1 else 1)\n",
    "vect = CountVectorizer(stop_words=all_stop_words())\n",
    "print(\"All data:\",training_data.shape[0])"
   ]
  },
  {
   "cell_type": "code",
   "execution_count": 24,
   "metadata": {
    "collapsed": false
   },
   "outputs": [
    {
     "data": {
      "text/html": [
       "<div>\n",
       "<table border=\"1\" class=\"dataframe\">\n",
       "  <thead>\n",
       "    <tr style=\"text-align: right;\">\n",
       "      <th></th>\n",
       "      <th>cleaned_tweet</th>\n",
       "      <th>positive</th>\n",
       "      <th>tweet</th>\n",
       "      <th>neg</th>\n",
       "    </tr>\n",
       "  </thead>\n",
       "  <tbody>\n",
       "    <tr>\n",
       "      <th>0</th>\n",
       "      <td>awesome</td>\n",
       "      <td>1</td>\n",
       "      <td>the da vinci code book is just awesome.\\n</td>\n",
       "      <td>0</td>\n",
       "    </tr>\n",
       "    <tr>\n",
       "      <th>1</th>\n",
       "      <td>first clive cussler ever read even books like ...</td>\n",
       "      <td>1</td>\n",
       "      <td>this was the first clive cussler i've ever rea...</td>\n",
       "      <td>0</td>\n",
       "    </tr>\n",
       "    <tr>\n",
       "      <th>2</th>\n",
       "      <td>liked lot</td>\n",
       "      <td>1</td>\n",
       "      <td>i liked the da vinci code a lot.\\n</td>\n",
       "      <td>0</td>\n",
       "    </tr>\n",
       "    <tr>\n",
       "      <th>3</th>\n",
       "      <td>liked lot</td>\n",
       "      <td>1</td>\n",
       "      <td>i liked the da vinci code a lot.\\n</td>\n",
       "      <td>0</td>\n",
       "    </tr>\n",
       "    <tr>\n",
       "      <th>4</th>\n",
       "      <td>liked ultimatly didnt seem hold</td>\n",
       "      <td>1</td>\n",
       "      <td>i liked the da vinci code but it ultimatly did...</td>\n",
       "      <td>0</td>\n",
       "    </tr>\n",
       "    <tr>\n",
       "      <th>5</th>\n",
       "      <td>thats even exaggeration midnight walmart buy a...</td>\n",
       "      <td>1</td>\n",
       "      <td>that's not even an exaggeration ) and at midni...</td>\n",
       "      <td>0</td>\n",
       "    </tr>\n",
       "    <tr>\n",
       "      <th>6</th>\n",
       "      <td>loved want something better different</td>\n",
       "      <td>1</td>\n",
       "      <td>i loved the da vinci code, but now i want some...</td>\n",
       "      <td>0</td>\n",
       "    </tr>\n",
       "    <tr>\n",
       "      <th>7</th>\n",
       "      <td>thought great kite runner</td>\n",
       "      <td>1</td>\n",
       "      <td>i thought da vinci code was great, same with k...</td>\n",
       "      <td>0</td>\n",
       "    </tr>\n",
       "    <tr>\n",
       "      <th>8</th>\n",
       "      <td>actually good</td>\n",
       "      <td>1</td>\n",
       "      <td>the da vinci code is actually a good movie...\\n</td>\n",
       "      <td>0</td>\n",
       "    </tr>\n",
       "    <tr>\n",
       "      <th>9</th>\n",
       "      <td>thought pretty good</td>\n",
       "      <td>1</td>\n",
       "      <td>i thought the da vinci code was a pretty good ...</td>\n",
       "      <td>0</td>\n",
       "    </tr>\n",
       "  </tbody>\n",
       "</table>\n",
       "</div>"
      ],
      "text/plain": [
       "                                       cleaned_tweet  positive  \\\n",
       "0                                            awesome         1   \n",
       "1  first clive cussler ever read even books like ...         1   \n",
       "2                                          liked lot         1   \n",
       "3                                          liked lot         1   \n",
       "4                    liked ultimatly didnt seem hold         1   \n",
       "5  thats even exaggeration midnight walmart buy a...         1   \n",
       "6              loved want something better different         1   \n",
       "7                          thought great kite runner         1   \n",
       "8                                      actually good         1   \n",
       "9                                thought pretty good         1   \n",
       "\n",
       "                                               tweet  neg  \n",
       "0          the da vinci code book is just awesome.\\n    0  \n",
       "1  this was the first clive cussler i've ever rea...    0  \n",
       "2                 i liked the da vinci code a lot.\\n    0  \n",
       "3                 i liked the da vinci code a lot.\\n    0  \n",
       "4  i liked the da vinci code but it ultimatly did...    0  \n",
       "5  that's not even an exaggeration ) and at midni...    0  \n",
       "6  i loved the da vinci code, but now i want some...    0  \n",
       "7  i thought da vinci code was great, same with k...    0  \n",
       "8    the da vinci code is actually a good movie...\\n    0  \n",
       "9  i thought the da vinci code was a pretty good ...    0  "
      ]
     },
     "execution_count": 24,
     "metadata": {},
     "output_type": "execute_result"
    }
   ],
   "source": [
    "training_data.head(10)"
   ]
  },
  {
   "cell_type": "code",
   "execution_count": 25,
   "metadata": {
    "collapsed": false
   },
   "outputs": [
    {
     "data": {
      "text/plain": [
       "array([[1, 0, 'awesome', 'the da vinci code book is just awesome.\\n'],\n",
       "       [1, 0,\n",
       "        'first clive cussler ever read even books like relic plausible',\n",
       "        \"this was the first clive cussler i've ever read, but even books like relic, and da vinci code were more plausible than this.\\n\"],\n",
       "       [1, 0, 'liked lot', 'i liked the da vinci code a lot.\\n'],\n",
       "       ..., \n",
       "       [0, 1, 'sit watching mtv awards reminded much despised',\n",
       "        'as i sit here, watching the mtv movie awards, i am reminded of how much i despised the movie brokeback mountain.\\n'],\n",
       "       [0, 1, 'ok horrible',\n",
       "        'ok brokeback mountain is such a horrible movie.\\n'],\n",
       "       [0, 1, 'oh terrible',\n",
       "        'oh, and brokeback mountain was a terrible movie.\\n']], dtype=object)"
      ]
     },
     "execution_count": 25,
     "metadata": {},
     "output_type": "execute_result"
    }
   ],
   "source": [
    "training_data = training_data[['positive','neg','cleaned_tweet', 'tweet']]\n",
    "training_data.values"
   ]
  },
  {
   "cell_type": "markdown",
   "metadata": {},
   "source": [
    "### One-hot Encode"
   ]
  },
  {
   "cell_type": "code",
   "execution_count": 28,
   "metadata": {
    "collapsed": false
   },
   "outputs": [
    {
     "name": "stdout",
     "output_type": "stream",
     "text": [
      "(7086, 2069)\n"
     ]
    }
   ],
   "source": [
    "vect.fit(training_data[\"cleaned_tweet\"])\n",
    "word_matrix = vect.transform(training_data[\"cleaned_tweet\"]).toarray()\n",
    "print(word_matrix.shape)"
   ]
  },
  {
   "cell_type": "code",
   "execution_count": 29,
   "metadata": {
    "collapsed": false
   },
   "outputs": [
    {
     "name": "stdout",
     "output_type": "stream",
     "text": [
      "Total features:  2069\n"
     ]
    }
   ],
   "source": [
    "num_features = word_matrix.shape[1]\n",
    "print(\"Total features: \",num_features)\n",
    "classes = training_data.values[:,:2]"
   ]
  },
  {
   "cell_type": "code",
   "execution_count": 30,
   "metadata": {
    "collapsed": false
   },
   "outputs": [
    {
     "name": "stdout",
     "output_type": "stream",
     "text": [
      "Training data: 5314\n"
     ]
    }
   ],
   "source": [
    "trX,testX,trY,testY = train_test_split(word_matrix,classes)   \n",
    "print(\"Training data:\",trX.shape[0])"
   ]
  },
  {
   "cell_type": "markdown",
   "metadata": {},
   "source": [
    "# Deep Neural Network\n",
    "\n",
    "\n",
    "Consists of : \n",
    "<ul>\n",
    "<li>Input layer </li> \n",
    "<li>Hidden layer with 300 neurons</li> \n",
    "<li>Output softmax layer, which outputs the likelyhood of a class: [1,0]</li>\n",
    "</ul>"
   ]
  },
  {
   "cell_type": "markdown",
   "metadata": {},
   "source": [
    "<img src=\"./data/nn-architecture.png\"/>"
   ]
  },
  {
   "cell_type": "code",
   "execution_count": 85,
   "metadata": {
    "collapsed": true
   },
   "outputs": [],
   "source": [
    "tf.reset_default_graph()\n",
    "input_data = tflearn.input_data(shape=[None, num_features])\n",
    "init_weights = tflearn.initializations.truncated_normal(shape=None,dtype=tf.float32, seed=None)\n",
    "layer1 = tflearn.layers.fully_connected(input_data,300,activation='sigmoid',weights_init=init_weights,regularizer='L2')\n",
    "net  =tflearn.layers.fully_connected(layer1 , 2,activation='softmax',regularizer='L2')\n",
    "net = tflearn.regression(net, optimizer='adam', loss='categorical_crossentropy')\n",
    "model = tflearn.DNN(net,tensorboard_verbose=3)\n"
   ]
  },
  {
   "cell_type": "code",
   "execution_count": 86,
   "metadata": {
    "collapsed": false
   },
   "outputs": [
    {
     "name": "stdout",
     "output_type": "stream",
     "text": [
      "Training Step: 839  | total loss: \u001b[1m\u001b[32m0.06920\u001b[0m\u001b[0m | time: 5.578s\n",
      "| Adam | epoch: 010 | loss: 0.06920 - acc: 0.9905 -- iter: 5312/5314\n",
      "Training Step: 840  | total loss: \u001b[1m\u001b[32m0.06767\u001b[0m\u001b[0m | time: 5.638s\n",
      "| Adam | epoch: 010 | loss: 0.06767 - acc: 0.9923 -- iter: 5314/5314\n",
      "--\n",
      "Evaluation:  [0.99322799097065462]\n"
     ]
    }
   ],
   "source": [
    "model.fit(trX,trY,n_epoch=10,show_metric=True)\n",
    "evl = model.evaluate(testX,testY)\n",
    "print(\"Evaluation: \",evl)"
   ]
  },
  {
   "cell_type": "code",
   "execution_count": 148,
   "metadata": {
    "collapsed": false
   },
   "outputs": [
    {
     "name": "stdout",
     "output_type": "stream",
     "text": [
      "             precision    recall  f1-score   support\n",
      "\n",
      "        0.0       0.99      0.99      0.99       761\n",
      "        1.0       1.00      0.99      0.99      1011\n",
      "\n",
      "avg / total       0.99      0.99      0.99      1772\n",
      "\n",
      "AUC = 0.9933\n"
     ]
    },
    {
     "data": {
      "image/png": "[encoded data removed]",
      "text/plain": [
       "<matplotlib.figure.Figure at 0x115ed8e10>"
      ]
     },
     "metadata": {},
     "output_type": "display_data"
    }
   ],
   "source": [
    "from sklearn.metrics import roc_curve, auc\n",
    "def auc_curve():\n",
    "    test_y=testY[:,0]\n",
    "    pred = []\n",
    "    i=0\n",
    "    for t in testX:\n",
    "        p = model.predict([t])\n",
    "        p_toarray = np.asarray(p)[0]\n",
    "        if p_toarray[0]>p_toarray[1]:\n",
    "            pred.append(1.0)\n",
    "        else:\n",
    "            pred.append(0.0)\n",
    "    print(metrics.classification_report(test_y.astype(float), np.asarray(pred)))\n",
    "    print(metrics.confusion_matrix(test_y.astype(float), pred))\n",
    "    fpr, tpr, thresholds = metrics.roc_curve(test_y, np.asarray(pred))\n",
    "    roc_auc = auc(fpr, tpr)\n",
    "    print('AUC = %0.4f'% roc_auc)\n",
    "    plt.title('Receiver Operating Characteristic')\n",
    "    plt.plot(fpr, tpr, 'b',\n",
    "    label='AUC = %0.2f'% roc_auc)\n",
    "    plt.legend(loc='lower right')\n",
    "    plt.plot([0,1],[0,1],'r--')\n",
    "    plt.xlim([-0.1,1.2])\n",
    "    plt.ylim([-0.1,1.2])\n",
    "    plt.ylabel('True Positive Sentiment Rate')\n",
    "    plt.xlabel('False Positive Sentiment Rate')\n",
    "    plt.show()\n",
    "    \n",
    "\n",
    "auc_curve()"
   ]
  },
  {
   "cell_type": "markdown",
   "metadata": {},
   "source": [
    "# Inspecting training data"
   ]
  },
  {
   "cell_type": "markdown",
   "metadata": {},
   "source": [
    "### Positive sentiment"
   ]
  },
  {
   "cell_type": "code",
   "execution_count": 114,
   "metadata": {
    "collapsed": false
   },
   "outputs": [
    {
     "name": "stdout",
     "output_type": "stream",
     "text": [
      "Tweet: the da vinci code book is just awesome.\n",
      "\n",
      "[ 0.97038788  0.02961217]\n",
      "sentiment: positive\n",
      "--------\n",
      "Tweet: this was the first clive cussler i've ever read, but even books like relic, and da vinci code were more plausible than this.\n",
      "\n",
      "[ 0.93533415  0.06466589]\n",
      "sentiment: positive\n",
      "--------\n",
      "Tweet: i liked the da vinci code a lot.\n",
      "\n",
      "[ 0.80056423  0.19943585]\n",
      "sentiment: positive\n",
      "--------\n",
      "Tweet: i liked the da vinci code a lot.\n",
      "\n",
      "[ 0.80056423  0.19943585]\n",
      "sentiment: positive\n",
      "--------\n",
      "Tweet: i liked the da vinci code but it ultimatly didn't seem to hold it's own.\n",
      "\n",
      "[ 0.77269202  0.22730799]\n",
      "sentiment: positive\n",
      "--------\n",
      "Tweet: that's not even an exaggeration ) and at midnight we went to wal-mart to buy the da vinci code, which is amazing of course.\n",
      "\n",
      "[ 0.62022918  0.37977079]\n",
      "sentiment: positive\n",
      "--------\n",
      "Tweet: i loved the da vinci code, but now i want something better and different!..\n",
      "\n",
      "[ 0.91257775  0.08742226]\n",
      "sentiment: positive\n",
      "--------\n",
      "Tweet: i thought da vinci code was great, same with kite runner.\n",
      "\n",
      "[ 0.55284309  0.44715688]\n",
      "sentiment: positive\n",
      "--------\n",
      "Tweet: the da vinci code is actually a good movie...\n",
      "\n",
      "[ 0.56884879  0.43115124]\n",
      "sentiment: positive\n",
      "--------\n",
      "Tweet: i thought the da vinci code was a pretty good book.\n",
      "\n",
      "[ 0.66133392  0.33866608]\n",
      "sentiment: positive\n",
      "--------\n"
     ]
    }
   ],
   "source": [
    "for t in training_data[training_data[\"positive\"] ==1][\"tweet\"].head(10):\n",
    "    print(\"Tweet:\",t)\n",
    "    enc = vect.transform([t]).toarray()\n",
    "    p = model.predict(enc)\n",
    "    print(np.asarray(p)[0])\n",
    "    print(\"sentiment:\",sentiment(np.asarray(p)[0]))\n",
    "    print('--------')"
   ]
  },
  {
   "cell_type": "markdown",
   "metadata": {},
   "source": [
    "### Negative sentiment"
   ]
  },
  {
   "cell_type": "code",
   "execution_count": 115,
   "metadata": {
    "collapsed": false
   },
   "outputs": [
    {
     "name": "stdout",
     "output_type": "stream",
     "text": [
      "Tweet: da vinci code was a terrible movie.\n",
      "\n",
      "[ 0.13090219  0.86909783]\n",
      "sentiment: negative\n",
      "--------\n",
      "Tweet: then again, the da vinci code is super shitty movie, and it made like 700 million.\n",
      "\n",
      "[ 0.80618703  0.19381297]\n",
      "sentiment: positive\n",
      "--------\n",
      "Tweet: the da vinci code comes out tomorrow, which sucks.\n",
      "\n",
      "[ 0.03794273  0.96205723]\n",
      "sentiment: negative\n",
      "--------\n",
      "Tweet: i thought the da vinci code movie was really boring.\n",
      "\n",
      "[ 0.0553035   0.94469649]\n",
      "sentiment: negative\n",
      "--------\n",
      "Tweet: god, yahoo games has this truly-awful looking da vinci code-themed skin on it's chessboard right now.\n",
      "\n",
      "[ 0.33391207  0.66608799]\n",
      "sentiment: negative\n",
      "--------\n",
      "Tweet: da vinci code does suck.\n",
      "\n",
      "[ 0.07236701  0.92763293]\n",
      "sentiment: negative\n",
      "--------\n",
      "Tweet: and better...-we all know da vinci code is bogus and inaccurate.\n",
      "\n",
      "[ 0.37601653  0.6239835 ]\n",
      "sentiment: negative\n",
      "--------\n",
      "Tweet: last time, da vinci code is also a bit disappointing to me, because many things written in the book is never mentioned in movie.\n",
      "\n",
      "[ 0.46054962  0.53945035]\n",
      "sentiment: negative\n",
      "--------\n",
      "Tweet: and better...-we all know da vinci code is bogus and inaccurate.\n",
      "\n",
      "[ 0.37601653  0.6239835 ]\n",
      "sentiment: negative\n",
      "--------\n",
      "Tweet: and better..-we all know da vinci code is bogus and inaccurate.\n",
      "\n",
      "[ 0.37601653  0.6239835 ]\n",
      "sentiment: negative\n",
      "--------\n"
     ]
    }
   ],
   "source": [
    "\n",
    "for t in training_data[training_data[\"positive\"] ==0][\"tweet\"].head(10):\n",
    "    print(\"Tweet:\",t)\n",
    "    enc = vect.transform([t]).toarray()\n",
    "    p = model.predict(enc)\n",
    "    print(np.asarray(p)[0])\n",
    "    print(\"sentiment:\",sentiment(np.asarray(p)[0]))\n",
    "    print('--------')"
   ]
  },
  {
   "cell_type": "markdown",
   "metadata": {},
   "source": [
    "### Custom data"
   ]
  },
  {
   "cell_type": "code",
   "execution_count": 140,
   "metadata": {
    "collapsed": false
   },
   "outputs": [
    {
     "name": "stdout",
     "output_type": "stream",
     "text": [
      "Tweet: The product was bad\n",
      "[ 0.51106882  0.48893115]\n",
      "sentiment: positive\n",
      "--------\n",
      "Tweet: I love this product\n",
      "[ 0.97221279  0.02778714]\n",
      "sentiment: positive\n",
      "--------\n",
      "Tweet: It was an ok experience\n",
      "[ 0.29885435  0.70114565]\n",
      "sentiment: negative\n",
      "--------\n",
      "Tweet: Do you hate me ?\n",
      "[ 0.05492244  0.9450776 ]\n",
      "sentiment: negative\n",
      "--------\n",
      "Tweet: Brokeback Mountain was boring.\n",
      "[ 0.10410561  0.89589441]\n",
      "sentiment: negative\n",
      "--------\n",
      "Tweet: excited for a change in 2017\n",
      "[ 0.4390558   0.56094426]\n",
      "sentiment: negative\n",
      "--------\n",
      "Tweet: I win!!\n",
      "[ 0.48284903  0.517151  ]\n",
      "sentiment: negative\n",
      "--------\n",
      "Tweet: I am a winner\n",
      "[ 0.44101396  0.55898601]\n",
      "sentiment: negative\n",
      "--------\n"
     ]
    }
   ],
   "source": [
    "testing_tweets = [\n",
    "                  \"The product was bad\",\n",
    "                  \"I love this product\",\n",
    "                  \"It was an ok experience\",\n",
    "                  \"Do you hate me ?\",\n",
    "                  \"Brokeback Mountain was boring.\",\"excited for a change in 2017\",\"I win!!\",\"I am a winner\"]\n",
    "for t in testing_tweets:\n",
    "    print(\"Tweet:\",t)\n",
    "    enc = vect.transform([t]).toarray()\n",
    "    p = model.predict(enc)\n",
    "    print(np.asarray(p)[0])\n",
    "    print(\"sentiment:\",sentiment(np.asarray(p)[0]))\n",
    "    print('--------')"
   ]
  },
  {
   "cell_type": "code",
   "execution_count": null,
   "metadata": {
    "collapsed": true
   },
   "outputs": [],
   "source": []
  },
  {
   "cell_type": "code",
   "execution_count": null,
   "metadata": {
    "collapsed": true
   },
   "outputs": [],
   "source": []
  }
 ],
 "metadata": {
  "kernelspec": {
   "display_name": "Python 3",
   "language": "python",
   "name": "python3"
  },
  "language_info": {
   "codemirror_mode": {
    "name": "ipython",
    "version": 3
   },
   "file_extension": ".py",
   "mimetype": "text/x-python",
   "name": "python",
   "nbconvert_exporter": "python",
   "pygments_lexer": "ipython3",
   "version": "3.5.1"
  }
 },
 "nbformat": 4,
 "nbformat_minor": 1
}
