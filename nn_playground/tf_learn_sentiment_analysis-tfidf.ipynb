{
 "cells": [
  {
   "cell_type": "markdown",
   "metadata": {},
   "source": [
    "# Sentiment Analysis using twitter data\n",
    "\n",
    "Simple Deep Neural Network, that predicts tweet sentiment. The model can be greatly improved using various <br/>\n",
    "word vectorization techniques and Recurrent Neural Networks.\n"
   ]
  },
  {
   "cell_type": "code",
   "execution_count": 2,
   "metadata": {
    "collapsed": true
   },
   "outputs": [],
   "source": [
    "from sklearn.feature_extraction.text import CountVectorizer\n",
    "import pandas as pd\n",
    "from sklearn.model_selection import train_test_split\n",
    "import tflearn as tflearn\n",
    "from nltk.corpus import stopwords\n",
    "import preprocessor as p\n",
    "import re\n",
    "import numpy as np\n",
    "from sklearn import preprocessing\n",
    "import tensorflow as tf"
   ]
  },
  {
   "cell_type": "code",
   "execution_count": 125,
   "metadata": {
    "collapsed": false
   },
   "outputs": [],
   "source": [
    "\n",
    "test_path = \"./data/twitter_test.txt\"\n",
    "training_path = \"./data/twitter_data.txt\"\n",
    "\n",
    "def all_stop_words():\n",
    "    stop_words = stopwords.words('english')\n",
    "    add_stopwords = [\",\", \"*\" , \")\" , \"(\" ,\".\",\"theres\",\"know\",\"one\",\"though\",\"vinci\",\"ive\",\"da\",\"book\",\"im\",\"went\",\n",
    "                    \"potter\",\"brokeback\",\"mountain\",\"harry\",\"code\",\"mission\",\"impossible\",\"movie\",\"movies\",\"i\",\"ya\",\n",
    "                    \"yet\",\"yall\",\"vinci\"]\n",
    "    for w in add_stopwords:\n",
    "        stop_words.append(w)\n",
    "    return stop_words\n",
    "\n",
    "\n",
    "stop_words = all_stop_words()\n",
    "def training_data_df(path):\n",
    "    \n",
    "    training_data = open(path,mode='r')\n",
    "    training_array =[]\n",
    "    for d in training_data:\n",
    "        training_dict = {}\n",
    "        sent_tweet_array = d.split('\\t')\n",
    "        training_dict['tweet'] = sent_tweet_array[1].lower()\n",
    "        training_dict['cleaned_tweet'] =remove_stop_words(sent_tweet_array[1].lower())\n",
    "        training_dict['positive'] =int(sent_tweet_array[0])\n",
    "        training_array.append(training_dict)\n",
    "    training_df = pd.DataFrame(training_array)\n",
    "    return training_df\n",
    "\n",
    "def sentiment(sentiment_prob):\n",
    "    if sentiment_prob[0]>sentiment_prob[1]:\n",
    "        return \"positive\"\n",
    "    return \"negative\"\n",
    "\n",
    "def remove_stop_words(tweet_text):\n",
    "    tweet_text = re.sub(r'[?|$|.|!]',r'',tweet_text)\n",
    "    tweet_text = re.sub(r'[^a-zA-Z0-9 ]',r'',tweet_text)\n",
    "    result = \"\"\n",
    "    for word in tweet_text.split():            \n",
    "        if word not in stop_words:\n",
    "            result = result +\" \"+word.lower()\n",
    "\n",
    "    return result.lstrip()\n",
    "\n",
    "def get_word_frequency(tweet_list):\n",
    "    word_dict = {} \n",
    "    result_array=[]\n",
    "    for tw in tweet_list:\n",
    "        for word in tw.split():\n",
    "            if word in word_dict.keys():\n",
    "                word_dict[word] = word_dict[word]+1\n",
    "                continue\n",
    "            word_dict[word] = 1\n",
    "    for k in word_dict.keys():\n",
    "        result_array.append({'word':k, 'count':word_dict[k]})\n",
    "    return pd.DataFrame(result_array,columns=['count','word'])\n",
    "\n",
    "\n",
    "def common_pos_words(df_data):\n",
    "    return common_words_filter(df_data,1)\n",
    "\n",
    "def common_neg_words(df_data):\n",
    "    return common_words_filter(df_data,0)\n",
    "\n",
    "def common_words_filter(df_data,sent):\n",
    "    pos_tweet =df_data[df_data[\"positive\"] ==sent]\n",
    "    all_tweets = pos_tweet[\"tweet\"].str.cat(sep='|')\n",
    "    common_words=[]\n",
    "    for pos_tw in pos_tweet[\"tweet\"]:\n",
    "        for tw in all_tweets.split('|'):\n",
    "            if pos_tw == tw:\n",
    "                continue\n",
    "            tw_list = list(tw.split())\n",
    "            pos_list = list(pos_tw.split())\n",
    "            inter = list(set(tw_list).intersection(pos_list))\n",
    "            for word in inter:\n",
    "                if word not in common_words:\n",
    "                    common_words.append(word)\n",
    "    return common_words"
   ]
  },
  {
   "cell_type": "code",
   "execution_count": 126,
   "metadata": {
    "collapsed": false
   },
   "outputs": [
    {
     "name": "stdout",
     "output_type": "stream",
     "text": [
      "(Total documents,Word vector):  (7087, 2072)\n",
      "feature length:  2072\n"
     ]
    }
   ],
   "source": [
    "from sklearn.feature_extraction.text import TfidfVectorizer\n",
    "\n",
    "training_data = training_data_df(training_path)\n",
    "training_data[\"neg\"] = training_data[\"positive\"].apply(lambda x: 0 if x==1 else 1)\n",
    "\n",
    "tfidf = TfidfVectorizer()\n",
    "all_desc= training_data[\"cleaned_tweet\"]\n",
    "tf_fit = tfidf.fit_transform(all_desc)\n",
    "print(\"(Total documents,Word vector): \",tf_fit.shape)\n",
    "# print(\"features : \\n\", tfidf.get_feature_names()) \n",
    "print(\"feature length: \",len( tfidf.get_feature_names()))\n",
    "pairwise_similarity = tf_fit * tf_fit.T\n",
    "p_to_array = pairwise_similarity.toarray()"
   ]
  },
  {
   "cell_type": "code",
   "execution_count": 127,
   "metadata": {
    "collapsed": false
   },
   "outputs": [
    {
     "data": {
      "text/plain": [
       "array([[0, 1, 'feeel like aaa reetard', 'i feeel like aaa reetard\\n'],\n",
       "       [1, 0, 'awesome', 'the da vinci code book is just awesome.\\n'],\n",
       "       [1, 0,\n",
       "        'first clive cussler ever read even books like relic plausible',\n",
       "        \"this was the first clive cussler i've ever read, but even books like relic, and da vinci code were more plausible than this.\\n\"],\n",
       "       ..., \n",
       "       [0, 1, 'sit watching mtv awards reminded much despised',\n",
       "        'as i sit here, watching the mtv movie awards, i am reminded of how much i despised the movie brokeback mountain.\\n'],\n",
       "       [0, 1, 'ok horrible',\n",
       "        'ok brokeback mountain is such a horrible movie.\\n'],\n",
       "       [0, 1, 'oh terrible',\n",
       "        'oh, and brokeback mountain was a terrible movie.\\n']], dtype=object)"
      ]
     },
     "execution_count": 127,
     "metadata": {},
     "output_type": "execute_result"
    }
   ],
   "source": [
    "training_data = training_data[['positive','neg','cleaned_tweet', 'tweet']]\n",
    "training_data.values"
   ]
  },
  {
   "cell_type": "markdown",
   "metadata": {},
   "source": [
    "### One-hot Encode"
   ]
  },
  {
   "cell_type": "code",
   "execution_count": 128,
   "metadata": {
    "collapsed": false
   },
   "outputs": [
    {
     "name": "stdout",
     "output_type": "stream",
     "text": [
      "(7087, 2072)\n"
     ]
    }
   ],
   "source": [
    "word_matrix = tf_fit.toarray()\n",
    "print(word_matrix.shape)"
   ]
  },
  {
   "cell_type": "code",
   "execution_count": 129,
   "metadata": {
    "collapsed": false
   },
   "outputs": [
    {
     "name": "stdout",
     "output_type": "stream",
     "text": [
      "Total features:  2072\n"
     ]
    }
   ],
   "source": [
    "num_features = word_matrix.shape[1]\n",
    "print(\"Total features: \",num_features)\n",
    "classes = training_data.values[:,0:2]\n"
   ]
  },
  {
   "cell_type": "code",
   "execution_count": 130,
   "metadata": {
    "collapsed": false
   },
   "outputs": [
    {
     "name": "stdout",
     "output_type": "stream",
     "text": [
      "Training data: 5315\n",
      "Test data: 1772\n"
     ]
    }
   ],
   "source": [
    "trX,testX,trY,testY = train_test_split(word_matrix,classes)   \n",
    "print(\"Training data:\",trX.shape[0])\n",
    "print(\"Test data:\",testX.shape[0])"
   ]
  },
  {
   "cell_type": "markdown",
   "metadata": {},
   "source": [
    "# Deep Neural Network\n",
    "\n",
    "\n",
    "Consists of : \n",
    "<ul>\n",
    "<li>Input layer </li> \n",
    "<li>Hidden layer with 300 neurons</li> \n",
    "<li>Output softmax layer, which outputs the likelyhood of a class: [1,0]</li>\n",
    "</ul>"
   ]
  },
  {
   "cell_type": "markdown",
   "metadata": {},
   "source": [
    "<img src=\"./data/nn-architecture.png\"/>"
   ]
  },
  {
   "cell_type": "code",
   "execution_count": 131,
   "metadata": {
    "collapsed": true
   },
   "outputs": [],
   "source": [
    "tf.reset_default_graph()\n",
    "input_data = tflearn.input_data(shape=[None, num_features])\n",
    "init_weights = tflearn.initializations.truncated_normal(shape=None,dtype=tf.float32, seed=None)\n",
    "layer1 = tflearn.layers.fully_connected(input_data,300,activation='sigmoid',weights_init=init_weights,regularizer='L2')\n",
    "net  =tflearn.layers.fully_connected(layer1 , 2,activation='softmax',regularizer='L2')\n",
    "net = tflearn.regression(net, optimizer='adam', loss='categorical_crossentropy')\n",
    "model = tflearn.DNN(net,tensorboard_verbose=3)\n"
   ]
  },
  {
   "cell_type": "code",
   "execution_count": 132,
   "metadata": {
    "collapsed": false
   },
   "outputs": [
    {
     "name": "stdout",
     "output_type": "stream",
     "text": [
      "Training Step: 839  | total loss: \u001b[1m\u001b[32m0.15404\u001b[0m\u001b[0m | time: 6.835s\n",
      "| Adam | epoch: 010 | loss: 0.15404 - acc: 0.9801 -- iter: 5312/5315\n",
      "Training Step: 840  | total loss: \u001b[1m\u001b[32m0.15150\u001b[0m\u001b[0m | time: 6.905s\n",
      "| Adam | epoch: 010 | loss: 0.15150 - acc: 0.9839 -- iter: 5315/5315\n",
      "--\n",
      "Evaluation:  [0.98927765371568044]\n"
     ]
    }
   ],
   "source": [
    "model.fit(trX,trY,n_epoch=10,show_metric=True)\n",
    "evl = model.evaluate(testX,testY)\n",
    "print(\"Evaluation: \",evl)"
   ]
  },
  {
   "cell_type": "code",
   "execution_count": 133,
   "metadata": {
    "collapsed": false
   },
   "outputs": [
    {
     "name": "stdout",
     "output_type": "stream",
     "text": [
      "             precision    recall  f1-score   support\n",
      "\n",
      "        0.0       0.98      0.99      0.99       788\n",
      "        1.0       0.99      0.99      0.99       984\n",
      "\n",
      "avg / total       0.99      0.99      0.99      1772\n",
      "\n",
      "[[782   6]\n",
      " [ 13 971]]\n",
      "AUC = 0.9896\n"
     ]
    },
    {
     "data": {
      "image/png": "[encoded data removed]",
      "text/plain": [
       "<matplotlib.figure.Figure at 0x11bb58198>"
      ]
     },
     "metadata": {},
     "output_type": "display_data"
    }
   ],
   "source": [
    "from sklearn.metrics import roc_curve, auc\n",
    "from sklearn import metrics\n",
    "import matplotlib.pyplot as plt\n",
    "def auc_curve():\n",
    "    test_y=testY[:,0]\n",
    "    pred = []\n",
    "    i=0\n",
    "    for t in testX:\n",
    "        p = model.predict([t])\n",
    "        p_toarray = np.asarray(p)[0]\n",
    "        if p_toarray[0]>p_toarray[1]:\n",
    "            pred.append(1.0)\n",
    "        else:\n",
    "            pred.append(0.0)\n",
    "    print(metrics.classification_report(test_y.astype(float), np.asarray(pred)))\n",
    "    print(metrics.confusion_matrix(test_y.astype(float), pred))\n",
    "    fpr, tpr, thresholds = metrics.roc_curve(test_y, np.asarray(pred))\n",
    "    roc_auc = auc(fpr, tpr)\n",
    "    print('AUC = %0.4f'% roc_auc)\n",
    "    plt.title('Receiver Operating Characteristic')\n",
    "    plt.plot(fpr, tpr, 'b',\n",
    "    label='AUC = %0.2f'% roc_auc)\n",
    "    plt.legend(loc='lower right')\n",
    "    plt.plot([0,1],[0,1],'r--')\n",
    "    plt.xlim([-0.1,1.2])\n",
    "    plt.ylim([-0.1,1.2])\n",
    "    plt.ylabel('True Positive Sentiment Rate')\n",
    "    plt.xlabel('False Positive Sentiment Rate')\n",
    "    plt.show()\n",
    "    \n",
    "\n",
    "auc_curve()"
   ]
  },
  {
   "cell_type": "markdown",
   "metadata": {},
   "source": [
    "# Inspecting training data"
   ]
  },
  {
   "cell_type": "code",
   "execution_count": 134,
   "metadata": {
    "collapsed": true
   },
   "outputs": [],
   "source": [
    "def tokenized_vector(description,tfidf_features):\n",
    "    \"\"\"\n",
    "    \n",
    "    \"\"\"\n",
    "    word_vector = np.zeros(len(tfidf_features))\n",
    "    no_stop_words = remove_stop_words(description)\n",
    "    for word in no_stop_words.split():\n",
    "        index = 0\n",
    "        if word in tfidf_features:\n",
    "            pos =  [i for i,x in enumerate(tfidf_features) if x == word]            \n",
    "            word_vector[pos] += 1\n",
    "        index = index +1    \n",
    "    return word_vector     "
   ]
  },
  {
   "cell_type": "code",
   "execution_count": null,
   "metadata": {
    "collapsed": false
   },
   "outputs": [],
   "source": []
  },
  {
   "cell_type": "markdown",
   "metadata": {},
   "source": [
    "### Positive sentiment"
   ]
  },
  {
   "cell_type": "code",
   "execution_count": 135,
   "metadata": {
    "collapsed": false
   },
   "outputs": [
    {
     "name": "stdout",
     "output_type": "stream",
     "text": [
      "Tweet: the da vinci code book is just awesome.\n",
      "\n",
      "[ 0.  0.  0. ...,  0.  0.  0.]\n",
      "[ 0.98342174  0.01657822]\n",
      "sentiment: positive\n",
      "--------\n",
      "Tweet: this was the first clive cussler i've ever read, but even books like relic, and da vinci code were more plausible than this.\n",
      "\n",
      "[ 0.  0.  0. ...,  0.  0.  0.]\n",
      "[ 0.98901087  0.01098919]\n",
      "sentiment: positive\n",
      "--------\n",
      "Tweet: i liked the da vinci code a lot.\n",
      "\n",
      "[ 0.  0.  0. ...,  0.  0.  0.]\n",
      "[ 0.8420952   0.15790482]\n",
      "sentiment: positive\n",
      "--------\n",
      "Tweet: i liked the da vinci code a lot.\n",
      "\n",
      "[ 0.  0.  0. ...,  0.  0.  0.]\n",
      "[ 0.8420952   0.15790482]\n",
      "sentiment: positive\n",
      "--------\n",
      "Tweet: i liked the da vinci code but it ultimatly didn't seem to hold it's own.\n",
      "\n",
      "[ 0.  0.  0. ...,  0.  0.  0.]\n",
      "[ 0.79946721  0.20053284]\n",
      "sentiment: positive\n",
      "--------\n",
      "Tweet: that's not even an exaggeration ) and at midnight we went to wal-mart to buy the da vinci code, which is amazing of course.\n",
      "\n",
      "[ 0.  0.  0. ...,  0.  0.  0.]\n",
      "[ 0.77895319  0.22104675]\n",
      "sentiment: positive\n",
      "--------\n",
      "Tweet: i loved the da vinci code, but now i want something better and different!..\n",
      "\n",
      "[ 0.  0.  0. ...,  0.  0.  0.]\n",
      "[ 0.92514855  0.07485143]\n",
      "sentiment: positive\n",
      "--------\n",
      "Tweet: i thought da vinci code was great, same with kite runner.\n",
      "\n",
      "[ 0.  0.  0. ...,  0.  0.  0.]\n",
      "[ 0.70184475  0.29815519]\n",
      "sentiment: positive\n",
      "--------\n",
      "Tweet: the da vinci code is actually a good movie...\n",
      "\n",
      "[ 0.  0.  0. ...,  0.  0.  0.]\n",
      "[ 0.65813124  0.3418687 ]\n",
      "sentiment: positive\n",
      "--------\n",
      "Tweet: i thought the da vinci code was a pretty good book.\n",
      "\n",
      "[ 0.  0.  0. ...,  0.  0.  0.]\n",
      "[ 0.6536178   0.34638223]\n",
      "sentiment: positive\n",
      "--------\n"
     ]
    }
   ],
   "source": [
    "for t in training_data[training_data[\"positive\"] ==1][\"tweet\"].head(10):\n",
    "    print(\"Tweet:\",t)\n",
    "    enc = tokenized_vector(t,tfidf.get_feature_names())\n",
    "    print(enc)\n",
    "    p = model.predict([enc])\n",
    "    print(np.asarray(p)[0])\n",
    "    print(\"sentiment:\",sentiment(np.asarray(p)[0]))\n",
    "    print('--------')"
   ]
  },
  {
   "cell_type": "markdown",
   "metadata": {},
   "source": [
    "### Negative sentiment"
   ]
  },
  {
   "cell_type": "code",
   "execution_count": 136,
   "metadata": {
    "collapsed": false
   },
   "outputs": [
    {
     "name": "stdout",
     "output_type": "stream",
     "text": [
      "Tweet: i feeel like aaa reetard\n",
      "\n",
      "[ 0.  0.  0. ...,  0.  0.  0.]\n",
      "[ 0.95524597  0.04475402]\n",
      "sentiment: positive\n",
      "--------\n",
      "Tweet: da vinci code was a terrible movie.\n",
      "\n",
      "[ 0.  0.  0. ...,  0.  0.  0.]\n",
      "[ 0.13428523  0.86571473]\n",
      "sentiment: negative\n",
      "--------\n",
      "Tweet: then again, the da vinci code is super shitty movie, and it made like 700 million.\n",
      "\n",
      "[ 0.  0.  0. ...,  0.  0.  0.]\n",
      "[ 0.91362065  0.08637936]\n",
      "sentiment: positive\n",
      "--------\n",
      "Tweet: the da vinci code comes out tomorrow, which sucks.\n",
      "\n",
      "[ 0.  0.  0. ...,  0.  0.  0.]\n",
      "[ 0.04576734  0.95423269]\n",
      "sentiment: negative\n",
      "--------\n",
      "Tweet: i thought the da vinci code movie was really boring.\n",
      "\n",
      "[ 0.  0.  0. ...,  0.  0.  0.]\n",
      "[ 0.07510248  0.92489755]\n",
      "sentiment: negative\n",
      "--------\n",
      "Tweet: god, yahoo games has this truly-awful looking da vinci code-themed skin on it's chessboard right now.\n",
      "\n",
      "[ 0.  0.  0. ...,  0.  0.  0.]\n",
      "[ 0.20345393  0.79654604]\n",
      "sentiment: negative\n",
      "--------\n",
      "Tweet: da vinci code does suck.\n",
      "\n",
      "[ 0.  0.  0. ...,  0.  0.  0.]\n",
      "[ 0.07793514  0.9220649 ]\n",
      "sentiment: negative\n",
      "--------\n",
      "Tweet: and better...-we all know da vinci code is bogus and inaccurate.\n",
      "\n",
      "[ 0.  0.  0. ...,  0.  0.  0.]\n",
      "[ 0.40481812  0.59518188]\n",
      "sentiment: negative\n",
      "--------\n",
      "Tweet: last time, da vinci code is also a bit disappointing to me, because many things written in the book is never mentioned in movie.\n",
      "\n",
      "[ 0.  0.  0. ...,  0.  0.  0.]\n",
      "[ 0.64714009  0.35285991]\n",
      "sentiment: positive\n",
      "--------\n",
      "Tweet: and better...-we all know da vinci code is bogus and inaccurate.\n",
      "\n",
      "[ 0.  0.  0. ...,  0.  0.  0.]\n",
      "[ 0.40481812  0.59518188]\n",
      "sentiment: negative\n",
      "--------\n"
     ]
    }
   ],
   "source": [
    "for t in training_data[training_data[\"positive\"] !=1][\"tweet\"].head(10):\n",
    "    print(\"Tweet:\",t)\n",
    "    enc = tokenized_vector(t,tfidf.get_feature_names())\n",
    "    print(enc)\n",
    "    p = model.predict([enc])\n",
    "    print(np.asarray(p)[0])\n",
    "    print(\"sentiment:\",sentiment(np.asarray(p)[0]))\n",
    "    print('--------')"
   ]
  },
  {
   "cell_type": "markdown",
   "metadata": {},
   "source": [
    "### Custom data"
   ]
  },
  {
   "cell_type": "code",
   "execution_count": 137,
   "metadata": {
    "collapsed": false
   },
   "outputs": [
    {
     "name": "stdout",
     "output_type": "stream",
     "text": [
      "Tweet: this was ok\n",
      "[ 0.  0.  0. ...,  0.  0.  0.]\n",
      "[ 0.20471892  0.79528117]\n",
      "sentiment: negative\n",
      "--------\n",
      "Tweet: I like this product but I am not satisfied\n",
      "[ 0.  0.  0. ...,  0.  0.  0.]\n",
      "[ 0.95524597  0.04475402]\n",
      "sentiment: positive\n",
      "--------\n",
      "Tweet: I FEEEL LIKE AAA REETARD\n",
      "[ 0.  0.  0. ...,  0.  0.  0.]\n",
      "[ 0.95524597  0.04475402]\n",
      "sentiment: positive\n",
      "--------\n"
     ]
    }
   ],
   "source": [
    "testing_tweets = [\"this was ok\",\"I like this product but I am not satisfied\",\"I FEEEL LIKE AAA REETARD\"\n",
    "]\n",
    "for t in testing_tweets:\n",
    "    print(\"Tweet:\",t)\n",
    "    enc = tokenized_vector(t,tfidf.get_feature_names())\n",
    "    print(enc)\n",
    "    p = model.predict([enc])\n",
    "    print(np.asarray(p)[0])\n",
    "    print(\"sentiment:\",sentiment(np.asarray(p)[0]))\n",
    "    print('--------')"
   ]
  },
  {
   "cell_type": "code",
   "execution_count": 206,
   "metadata": {
    "collapsed": false
   },
   "outputs": [
    {
     "name": "stdout",
     "output_type": "stream",
     "text": [
      "\n"
     ]
    }
   ],
   "source": [
    "print(vect.transform([\"satisfied\"]))"
   ]
  },
  {
   "cell_type": "code",
   "execution_count": null,
   "metadata": {
    "collapsed": true
   },
   "outputs": [],
   "source": []
  }
 ],
 "metadata": {
  "kernelspec": {
   "display_name": "Python 3",
   "language": "python",
   "name": "python3"
  },
  "language_info": {
   "codemirror_mode": {
    "name": "ipython",
    "version": 3
   },
   "file_extension": ".py",
   "mimetype": "text/x-python",
   "name": "python",
   "nbconvert_exporter": "python",
   "pygments_lexer": "ipython3",
   "version": "3.5.1"
  }
 },
 "nbformat": 4,
 "nbformat_minor": 1
}
