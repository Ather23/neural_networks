{
 "cells": [
  {
   "cell_type": "code",
   "execution_count": 169,
   "metadata": {
    "collapsed": false
   },
   "outputs": [
    {
     "name": "stdout",
     "output_type": "stream",
     "text": [
      "0 [-0.09643865] [ 0.76299345]\n",
      "20 [ 0.61585069] [ 0.15949512]\n",
      "40 [ 0.80097222] [ 0.05989251]\n",
      "60 [ 0.84358639] [ 0.03696442]\n",
      "80 [ 0.853396] [ 0.03168646]\n",
      "100 [ 0.85565412] [ 0.03047151]\n",
      "120 [ 0.85617399] [ 0.03019182]\n",
      "140 [ 0.85629356] [ 0.03012746]\n",
      "160 [ 0.8563211] [ 0.03011267]\n",
      "180 [ 0.85632747] [ 0.03010924]\n",
      "200 [ 0.8563289] [ 0.03010844]\n"
     ]
    }
   ],
   "source": [
    "import tensorflow as tf\n",
    "import numpy as np\n",
    "\n",
    "# Create 100 phony x, y data points in NumPy, y = x * 0.1 + 0.3\n",
    "x_data = np.random.rand(100).astype(np.float32)\n",
    "y_data = np.sin(x_data)\n",
    "\n",
    "\n",
    " \n",
    "# Try to find values for W and b that compute y_data = W * x_data + b\n",
    "# (We know that W should be 0.1 and b 0.3, but Tensorflow will\n",
    "# figure that out for us.)\n",
    "W = tf.Variable(tf.random_uniform([1], -1.0, 1.0))\n",
    "b = tf.Variable(tf.zeros([1]))\n",
    "y = W * x_data + b\n",
    " \n",
    "# Minimize the mean squared errors.\n",
    "loss = tf.reduce_mean(tf.square(y - y_data))\n",
    "optimizer = tf.train.GradientDescentOptimizer(0.5)\n",
    "train = optimizer.minimize(loss)\n",
    " \n",
    "# Before starting, initialize the variables.  We will 'run' this first.\n",
    "init = tf.global_variables_initializer()\n",
    " \n",
    "# Launch the graph.\n",
    "# sess = tf.Session()\n",
    "# sess = tf.InteractiveSession()\n",
    "# sess.run(init)\n",
    " \n",
    "# Fit the line.\n",
    "\n",
    "with tf.Session() as sess:\n",
    "    sess.run(init)\n",
    "    for step in range(201):\n",
    "        sess.run(train)\n",
    "        if step % 20 == 0:\n",
    "            print(step, sess.run(W), sess.run(b))\n",
    " \n",
    "# Learns best fit is W: [0.1], b: [0.3]"
   ]
  },
  {
   "cell_type": "code",
   "execution_count": 170,
   "metadata": {
    "collapsed": false
   },
   "outputs": [
    {
     "data": {
      "text/plain": [
       "(1, 2)"
      ]
     },
     "execution_count": 170,
     "metadata": {},
     "output_type": "execute_result"
    }
   ],
   "source": [
    "a = [[1.0,2.0]]\n",
    "a = np.array(a)\n",
    "a.shape"
   ]
  },
  {
   "cell_type": "code",
   "execution_count": 179,
   "metadata": {
    "collapsed": false
   },
   "outputs": [],
   "source": [
    "\n",
    "# tf.cast(tf.Variable(tf.random_normal([2, 2])),tf.float64)\n",
    "W1 = tf.cast(tf.Variable([[1.0],[2.0]]),tf.float64)\n",
    "Y_ = tf.Variable([1])\n",
    "B1 = tf.Variable(tf.zeros([2.0]))\n",
    "init = tf.global_variables_initializer()"
   ]
  },
  {
   "cell_type": "code",
   "execution_count": 187,
   "metadata": {
    "collapsed": false
   },
   "outputs": [
    {
     "name": "stdout",
     "output_type": "stream",
     "text": [
      "Weight: \n",
      "[[ 1.]\n",
      " [ 2.]]\n",
      "A: \n",
      "[[ 1.  2.]]\n",
      "trans\n",
      "[[ 1.]\n",
      " [ 2.]]\n",
      "X\n",
      "[[ 5.]]\n",
      "---\n"
     ]
    }
   ],
   "source": [
    "with tf.Session() as sess:\n",
    "    sess.run(init)\n",
    "#         print(sess.run(x))\n",
    "    print(\"Weight: \")\n",
    "    print(sess.run(W1))\n",
    "    print(\"A: \")\n",
    "    print(sess.run(tf.cast(a,tf.float64)))\n",
    "\n",
    "    x=tf.matmul(a, tf.reshape(tf.cast(W1,tf.float64),[-1,1]))\n",
    "    print(\"dot product\")\n",
    "    print(sess.run(x))\n",
    "    print(\"---\")\n",
    "#     s=tf.nn.sigmoid(tf.matmul(W1, a))\n",
    "#     print(sess.run(s))\n",
    "\n",
    "#     Ylogits = tf.matmul(s, tf.cast(a,tf.float64))\n",
    "#     print(sess.run(Ylogits))\n",
    "#     print(sess.run(Y_))\n",
    "# # #     Y_=np.reshape(Y_, (-1, 2))\n",
    "# # #     print(sess.run(Y_))\n",
    "\n",
    "#     cross_entropy = tf.nn.softmax_cross_entropy_with_logits(logits=Ylogits, labels=Y_)\n",
    "\n",
    "#     print(sess.run(cross_entropy))\n"
   ]
  },
  {
   "cell_type": "code",
   "execution_count": null,
   "metadata": {
    "collapsed": false
   },
   "outputs": [],
   "source": [
    "test[:,:2]"
   ]
  },
  {
   "cell_type": "code",
   "execution_count": null,
   "metadata": {
    "collapsed": true
   },
   "outputs": [],
   "source": []
  }
 ],
 "metadata": {
  "kernelspec": {
   "display_name": "Python 3",
   "language": "python",
   "name": "python3"
  },
  "language_info": {
   "codemirror_mode": {
    "name": "ipython",
    "version": 3
   },
   "file_extension": ".py",
   "mimetype": "text/x-python",
   "name": "python",
   "nbconvert_exporter": "python",
   "pygments_lexer": "ipython3",
   "version": "3.5.1"
  }
 },
 "nbformat": 4,
 "nbformat_minor": 1
}
