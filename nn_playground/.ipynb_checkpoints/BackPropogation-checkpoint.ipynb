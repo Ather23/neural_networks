{
 "cells": [
  {
   "cell_type": "code",
   "execution_count": null,
   "metadata": {
    "collapsed": true
   },
   "outputs": [],
   "source": [
    "import numpy as np\n",
    "\n",
    "def nonlin(x,deriv=False):\n",
    "\tif(deriv==True):\n",
    "\t    return x*(1-x)\n",
    "\n",
    "\treturn 1/(1+np.exp(-x))\n",
    "    \n",
    "\n",
    "\n",
    "np.random.seed(1)\n",
    "\n",
    "# randomly initialize our weights with mean 0\n",
    "syn0 = 2*np.random.random((3,4)) - 1\n",
    "syn1 = 2*np.random.random((4,1)) - 1\n",
    "\n",
    "for j in xrange(60000):\n",
    "\n",
    "\t# Feed forward through layers 0, 1, and 2\n",
    "    l0 = X\n",
    "    l1 = nonlin(np.dot(l0,syn0))\n",
    "    l2 = nonlin(np.dot(l1,syn1))\n",
    "\n",
    "    # how much did we miss the target value?\n",
    "    l2_error = y - l2\n",
    "    \n",
    "    if (j% 10000) == 0:\n",
    "        print \"Error:\" + str(np.mean(np.abs(l2_error)))\n",
    "        \n",
    "    # in what direction is the target value?\n",
    "    # were we really sure? if so, don't change too much.\n",
    "    l2_delta = l2_error*nonlin(l2,deriv=True)\n",
    "\n",
    "    # how much did each l1 value contribute to the l2 error (according to the weights)?\n",
    "    l1_error = l2_delta.dot(syn1.T)\n",
    "    \n",
    "    # in what direction is the target l1?\n",
    "    # were we really sure? if so, don't change too much.\n",
    "    l1_delta = l1_error * nonlin(l1,deriv=True)\n",
    "\n",
    "    syn1 += l1.T.dot(l2_delta)\n",
    "    syn0 += l0.T.dot(l1_delta)\n"
   ]
  },
  {
   "cell_type": "code",
   "execution_count": 74,
   "metadata": {
    "collapsed": false
   },
   "outputs": [],
   "source": [
    "import numpy as np\n",
    "import math as math\n",
    "\n",
    "\n",
    "class Sigmoid:\n",
    "    def __init__(self,bias):\n",
    "        self.bias = bias\n",
    "        \n",
    "    def sigmoid_output(self,_input):\n",
    "        _exponent = np.add(_input, + self.bias)\n",
    "        denom = 1+np.exp(_exponent)\n",
    "        return 1 / denom\n",
    "        \n",
    "\n",
    "class Edge:\n",
    "    def __init__(self,weight:float,_input:float):\n",
    "        self.weight = weight\n",
    "        self._input = _input\n",
    "            \n",
    "    def input_times_weight(self):\n",
    "        return self.weight*self._input\n",
    "    \n",
    "    def update_input(self,new_input):\n",
    "        selt._input=new_input\n",
    "    \n",
    "    def update_input(self,new_weight):\n",
    "        selt.weight=new_weight\n",
    "        \n",
    "    \n",
    "class Neuron:\n",
    "    def __init__(self,\n",
    "                 label:str,\n",
    "                 input_edges,\n",
    "                 output_edges,\n",
    "                 bias:int\n",
    "                ):\n",
    "        \"\"\"\n",
    "        list of input/output edges\n",
    "        \"\"\"\n",
    "\n",
    "        self.neuron_label = label\n",
    "        self.input_edges  = input_edges\n",
    "        self.output_edges  = output_edges\n",
    "        self.bias = 0\n",
    "        \n",
    "    #sum of x1*w1+x2*w2+ ..... + xn*wn   \n",
    "    def input_dot_weight(self):\n",
    "        output = 0\n",
    "        for edge in self.input_edges:\n",
    "            output = output + edge.input_times_weight()\n",
    "        return output\n",
    "    \n",
    "    def output_edge_values(self):\n",
    "        output_edge_list = []\n",
    "        print(type(self.output_edges))\n",
    "        for o in self.output_edges:\n",
    "            \n",
    "            o_edge = o.input_times_weight()\n",
    "            output_edge_list.append(o_edge)\n",
    "        return output_edge_list\n",
    "            \n",
    "    \n",
    "    def compute_output(self):\n",
    "        sigmoid = Sigmoid(self.bias)\n",
    "        i_dot_w = self.input_dot_weight()\n",
    "        return sigmoid.sigmoid_output(i_dot_w)\n",
    "        \n",
    "class NeuronLayer:\n",
    "    \"\"\"\n",
    "    number of neurons in the hidden layer\n",
    "    bias in the layer\n",
    "    \"\"\"\n",
    "    def __init__(self,\n",
    "                 label:str,\n",
    "                 number_of_neurons:int,\n",
    "                 total_input_edges : int,\n",
    "                 total_output_edges:int,\n",
    "                 bias:int\n",
    "                ):\n",
    "        \n",
    "        print(\"Initinalizing layer \")\n",
    "        self.label = label\n",
    "        self.total_neurons =number_of_neurons\n",
    "        self.total_input_edges=total_input_edges\n",
    "        self.total_output_edges=total_output_edges\n",
    "        self.bias = bias\n",
    "        self.neurons = []\n",
    "        \n",
    "    def random_neurons(self):\n",
    "        \"\"\"\n",
    "        Creates neurons with random weights\n",
    "        \"\"\"\n",
    "        \n",
    "        print(\"Random neuron assignment\")\n",
    "        neuron_list = []\n",
    "        for neuron in range(1,self.total_neurons+1):\n",
    "            output_edge_list = []\n",
    "            input_edge_list = []\n",
    "            \n",
    "            #output\n",
    "            for i_edge in range(0,self.total_output_edges):\n",
    "                random_weight = np.random.random_sample()\n",
    "                edge = Edge(random_weight,0)\n",
    "                output_edge_list.append(edge)\n",
    "                \n",
    "            #input\n",
    "            for i_edge in range(0,self.total_input_edges):\n",
    "                random_weight = np.random.random_sample()\n",
    "                edge = Edge(1,0)\n",
    "                input_edge_list.append(edge)\n",
    "            \n",
    "            n = Neuron(\"n\"+str(neuron),input_edge_list,output_edge_list,self.bias)\n",
    "            neuron_list.append(n)\n",
    "        self.neurons = neuron_list\n",
    "        \n",
    "    def set_input_layer(self,training_data):\n",
    "        number_of_features = training_data.shape[0]\n",
    "        input_neuron_list = []\n",
    "        for x in range(0,number_of_features):\n",
    "            label = \"n\"+str(x)\n",
    "            input_x = training_data[x]\n",
    "            output_x = input_x            \n",
    "            edge = Edge(1.0,x)\n",
    "            input_neuron = Neuron(label,[input_x],[output_x],1)\n",
    "            input_neuron_list.append(input_neuron)\n",
    "        \n",
    "        self.neurons =input_neuron_list\n",
    "        \n",
    "                \n",
    "\n",
    "            \n",
    "class NNTrain:\n",
    "    def __init__(self,training_data):\n",
    "        self.number_of_feature = training_data.shape[1]\n",
    "    \n",
    "\n",
    "        "
   ]
  },
  {
   "cell_type": "code",
   "execution_count": 75,
   "metadata": {
    "collapsed": true
   },
   "outputs": [],
   "source": [
    "traing_data= np.array([[0,0,1],\n",
    "            [0,1,1],\n",
    "            [1,0,1],\n",
    "            [1,1,1]])\n",
    "                \n",
    "training_output = np.array([[0],[1],[1],[0]])"
   ]
  },
  {
   "cell_type": "markdown",
   "metadata": {},
   "source": [
    "### Input layer"
   ]
  },
  {
   "cell_type": "code",
   "execution_count": 76,
   "metadata": {
    "collapsed": false
   },
   "outputs": [
    {
     "name": "stdout",
     "output_type": "stream",
     "text": [
      "Initinalizing layer \n"
     ]
    }
   ],
   "source": [
    "input_layer = NeuronLayer(\"Input layer\",\n",
    "                          number_of_neurons=3,\n",
    "                          total_input_edges=3,\n",
    "                          total_output_edges=3,\n",
    "                          bias=1)\n",
    "input_layer.set_input_layer(traing_data[0])\n"
   ]
  },
  {
   "cell_type": "code",
   "execution_count": 78,
   "metadata": {
    "collapsed": false
   },
   "outputs": [
    {
     "name": "stdout",
     "output_type": "stream",
     "text": [
      "n0\n",
      "<class 'list'>\n"
     ]
    },
    {
     "ename": "AttributeError",
     "evalue": "'numpy.int64' object has no attribute 'input_times_weight'",
     "output_type": "error",
     "traceback": [
      "\u001b[0;31m---------------------------------------------------------------------------\u001b[0m",
      "\u001b[0;31mAttributeError\u001b[0m                            Traceback (most recent call last)",
      "\u001b[0;32m<ipython-input-78-8f7448f31e6a>\u001b[0m in \u001b[0;36m<module>\u001b[0;34m()\u001b[0m\n\u001b[1;32m      1\u001b[0m \u001b[0;32mfor\u001b[0m \u001b[0mx\u001b[0m \u001b[0;32min\u001b[0m \u001b[0minput_layer\u001b[0m\u001b[0;34m.\u001b[0m\u001b[0mneurons\u001b[0m\u001b[0;34m:\u001b[0m\u001b[0;34m\u001b[0m\u001b[0m\n\u001b[1;32m      2\u001b[0m     \u001b[0mprint\u001b[0m\u001b[0;34m(\u001b[0m\u001b[0mx\u001b[0m\u001b[0;34m.\u001b[0m\u001b[0mneuron_label\u001b[0m\u001b[0;34m)\u001b[0m\u001b[0;34m\u001b[0m\u001b[0m\n\u001b[0;32m----> 3\u001b[0;31m     \u001b[0mprint\u001b[0m\u001b[0;34m(\u001b[0m\u001b[0mx\u001b[0m\u001b[0;34m.\u001b[0m\u001b[0moutput_edge_values\u001b[0m\u001b[0;34m(\u001b[0m\u001b[0;34m)\u001b[0m\u001b[0;34m)\u001b[0m\u001b[0;34m\u001b[0m\u001b[0m\n\u001b[0m\u001b[1;32m      4\u001b[0m \u001b[0;31m#     for e in x.input_edges:\u001b[0m\u001b[0;34m\u001b[0m\u001b[0;34m\u001b[0m\u001b[0m\n\u001b[1;32m      5\u001b[0m \u001b[0;31m#         print(e.)\u001b[0m\u001b[0;34m\u001b[0m\u001b[0;34m\u001b[0m\u001b[0m\n",
      "\u001b[0;32m<ipython-input-74-b6c37d0f1177>\u001b[0m in \u001b[0;36moutput_edge_values\u001b[0;34m(self)\u001b[0m\n\u001b[1;32m     55\u001b[0m         \u001b[0mprint\u001b[0m\u001b[0;34m(\u001b[0m\u001b[0mtype\u001b[0m\u001b[0;34m(\u001b[0m\u001b[0mself\u001b[0m\u001b[0;34m.\u001b[0m\u001b[0moutput_edges\u001b[0m\u001b[0;34m)\u001b[0m\u001b[0;34m)\u001b[0m\u001b[0;34m\u001b[0m\u001b[0m\n\u001b[1;32m     56\u001b[0m         \u001b[0;32mfor\u001b[0m \u001b[0mo\u001b[0m \u001b[0;32min\u001b[0m \u001b[0mself\u001b[0m\u001b[0;34m.\u001b[0m\u001b[0moutput_edges\u001b[0m\u001b[0;34m:\u001b[0m\u001b[0;34m\u001b[0m\u001b[0m\n\u001b[0;32m---> 57\u001b[0;31m             \u001b[0mo_edge\u001b[0m \u001b[0;34m=\u001b[0m \u001b[0mo\u001b[0m\u001b[0;34m.\u001b[0m\u001b[0minput_times_weight\u001b[0m\u001b[0;34m(\u001b[0m\u001b[0;34m)\u001b[0m\u001b[0;34m\u001b[0m\u001b[0m\n\u001b[0m\u001b[1;32m     58\u001b[0m             \u001b[0moutput_edge_list\u001b[0m\u001b[0;34m.\u001b[0m\u001b[0mappend\u001b[0m\u001b[0;34m(\u001b[0m\u001b[0mo_edge\u001b[0m\u001b[0;34m)\u001b[0m\u001b[0;34m\u001b[0m\u001b[0m\n\u001b[1;32m     59\u001b[0m         \u001b[0;32mreturn\u001b[0m \u001b[0moutput_edge_list\u001b[0m\u001b[0;34m\u001b[0m\u001b[0m\n",
      "\u001b[0;31mAttributeError\u001b[0m: 'numpy.int64' object has no attribute 'input_times_weight'"
     ]
    }
   ],
   "source": [
    "for x in input_layer.neurons:\n",
    "    print(x.neuron_label)\n",
    "    print(x.output_edge_values())\n",
    "#     for e in x.input_edges:\n",
    "#         print(e.)"
   ]
  },
  {
   "cell_type": "code",
   "execution_count": 58,
   "metadata": {
    "collapsed": false
   },
   "outputs": [
    {
     "ename": "TypeError",
     "evalue": "__init__() missing 1 required positional argument: 'label'",
     "output_type": "error",
     "traceback": [
      "\u001b[0;31m---------------------------------------------------------------------------\u001b[0m",
      "\u001b[0;31mTypeError\u001b[0m                                 Traceback (most recent call last)",
      "\u001b[0;32m<ipython-input-58-8521aa67bc0d>\u001b[0m in \u001b[0;36m<module>\u001b[0;34m()\u001b[0m\n\u001b[0;32m----> 1\u001b[0;31m \u001b[0mhidden_layer\u001b[0m \u001b[0;34m=\u001b[0m \u001b[0mNeuronLayer\u001b[0m\u001b[0;34m(\u001b[0m\u001b[0mnumber_of_neurons\u001b[0m\u001b[0;34m=\u001b[0m\u001b[0;36m3\u001b[0m\u001b[0;34m,\u001b[0m\u001b[0mtotal_input_edges\u001b[0m\u001b[0;34m=\u001b[0m\u001b[0;36m3\u001b[0m\u001b[0;34m,\u001b[0m\u001b[0mtotal_output_edges\u001b[0m\u001b[0;34m=\u001b[0m\u001b[0;36m1\u001b[0m\u001b[0;34m,\u001b[0m\u001b[0mbias\u001b[0m\u001b[0;34m=\u001b[0m\u001b[0;36m1\u001b[0m\u001b[0;34m)\u001b[0m\u001b[0;34m\u001b[0m\u001b[0m\n\u001b[0m\u001b[1;32m      2\u001b[0m \u001b[0mhidden_layer\u001b[0m\u001b[0;34m.\u001b[0m\u001b[0mrandom_neurons\u001b[0m\u001b[0;34m(\u001b[0m\u001b[0;34m)\u001b[0m\u001b[0;34m\u001b[0m\u001b[0m\n",
      "\u001b[0;31mTypeError\u001b[0m: __init__() missing 1 required positional argument: 'label'"
     ]
    }
   ],
   "source": [
    "hidden_layer = NeuronLayer(number_of_neurons=3,total_input_edges=3,total_output_edges=1,bias=1)\n",
    "hidden_layer.random_neurons()"
   ]
  },
  {
   "cell_type": "code",
   "execution_count": 18,
   "metadata": {
    "collapsed": false
   },
   "outputs": [],
   "source": []
  },
  {
   "cell_type": "code",
   "execution_count": 21,
   "metadata": {
    "collapsed": false
   },
   "outputs": [
    {
     "data": {
      "text/plain": [
       "4"
      ]
     },
     "execution_count": 21,
     "metadata": {},
     "output_type": "execute_result"
    }
   ],
   "source": [
    "traing_data.shape[0]"
   ]
  },
  {
   "cell_type": "code",
   "execution_count": 144,
   "metadata": {
    "collapsed": false
   },
   "outputs": [
    {
     "name": "stdout",
     "output_type": "stream",
     "text": [
      "0.00669285092428\n",
      "0.00247262315663\n",
      "0.000911051194401\n"
     ]
    }
   ],
   "source": []
  },
  {
   "cell_type": "code",
   "execution_count": 52,
   "metadata": {
    "collapsed": false
   },
   "outputs": [
    {
     "data": {
      "text/plain": [
       "array([  5.00000000e-01,   7.31058579e-01,   1.01122149e-43])"
      ]
     },
     "execution_count": 52,
     "metadata": {},
     "output_type": "execute_result"
    }
   ],
   "source": [
    "s = Sigmoid(-1.0)\n",
    "s.sigmoid_output([1.0,0.0,100.0])"
   ]
  },
  {
   "cell_type": "code",
   "execution_count": 163,
   "metadata": {
    "collapsed": true
   },
   "outputs": [],
   "source": [
    "syn0 = 2*np.random.random((3,4)) - 1\n"
   ]
  },
  {
   "cell_type": "code",
   "execution_count": 164,
   "metadata": {
    "collapsed": false
   },
   "outputs": [
    {
     "data": {
      "text/plain": [
       "array([[ 0.85847524, -0.77872624,  0.01060403, -0.69731092],\n",
       "       [-0.36986591, -0.88480095, -0.42420634, -0.81772883],\n",
       "       [ 0.18885191, -0.08759591, -0.13370758, -0.542567  ]])"
      ]
     },
     "execution_count": 164,
     "metadata": {},
     "output_type": "execute_result"
    }
   ],
   "source": [
    "syn0"
   ]
  },
  {
   "cell_type": "code",
   "execution_count": null,
   "metadata": {
    "collapsed": true
   },
   "outputs": [],
   "source": []
  }
 ],
 "metadata": {
  "kernelspec": {
   "display_name": "Python 3",
   "language": "python",
   "name": "python3"
  },
  "language_info": {
   "codemirror_mode": {
    "name": "ipython",
    "version": 3
   },
   "file_extension": ".py",
   "mimetype": "text/x-python",
   "name": "python",
   "nbconvert_exporter": "python",
   "pygments_lexer": "ipython3",
   "version": "3.5.1"
  }
 },
 "nbformat": 4,
 "nbformat_minor": 1
}
