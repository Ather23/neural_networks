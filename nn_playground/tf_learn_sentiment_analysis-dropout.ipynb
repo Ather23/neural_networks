{
 "cells": [
  {
   "cell_type": "markdown",
   "metadata": {},
   "source": [
    "# Sentiment Analysis using twitter data\n",
    "\n",
    "Simple Deep Neural Network, that predicts tweet sentiment. The model can be greatly improved using various <br/>\n",
    "word vectorization techniques and Recurrent Neural Networks.\n"
   ]
  },
  {
   "cell_type": "code",
   "execution_count": 1,
   "metadata": {
    "collapsed": true
   },
   "outputs": [],
   "source": [
    "from sklearn.feature_extraction.text import CountVectorizer\n",
    "import pandas as pd\n",
    "from sklearn.model_selection import train_test_split\n",
    "import tflearn as tflearn\n",
    "from nltk.corpus import stopwords\n",
    "import preprocessor as p\n",
    "import re\n",
    "import numpy as np\n",
    "from sklearn import preprocessing\n",
    "import tensorflow as tf"
   ]
  },
  {
   "cell_type": "code",
   "execution_count": 2,
   "metadata": {
    "collapsed": false
   },
   "outputs": [],
   "source": [
    "\n",
    "test_path = \"./data/twitter_test.txt\"\n",
    "training_path = \"./data/twitter_data.txt\"\n",
    "\n",
    "def all_stop_words():\n",
    "    stop_words = stopwords.words('english')\n",
    "    add_stopwords = [\",\", \"*\" , \")\" , \"(\" ,\".\",\"theres\",\"know\",\"one\",\"though\",\"vinci\",\"ive\",\"da\",\"book\",\"im\",\"went\",\n",
    "                    \"potter\",\"brokeback\",\"mountain\",\"harry\",\"code\",\"mission\",\"impossible\",\"movie\",\"movies\",\"i\",\"ya\",\n",
    "                    \"yet\",\"yall\"]\n",
    "    for w in add_stopwords:\n",
    "        stop_words.append(w)\n",
    "    return stop_words\n",
    "\n",
    "\n",
    "stop_words = all_stop_words()\n",
    "def training_data_df(path):\n",
    "    \n",
    "    training_data = open(path,mode='r')\n",
    "    training_array =[]\n",
    "    for d in training_data:\n",
    "        training_dict = {}\n",
    "        sent_tweet_array = d.split('\\t')\n",
    "        training_dict['tweet'] = sent_tweet_array[1].lower()\n",
    "        training_dict['cleaned_tweet'] =remove_stop_words(sent_tweet_array[1].lower())\n",
    "        training_dict['positive'] =int(sent_tweet_array[0])\n",
    "        training_array.append(training_dict)\n",
    "    training_df = pd.DataFrame(training_array)\n",
    "    return training_df\n",
    "\n",
    "def sentiment(sentiment_prob):\n",
    "    if sentiment_prob[0]>sentiment_prob[1]:\n",
    "        return \"positive\"\n",
    "    return \"negative\"\n",
    "\n",
    "def remove_stop_words(tweet_text):\n",
    "    tweet_text = re.sub(r'[?|$|.|!]',r'',tweet_text)\n",
    "    tweet_text = re.sub(r'[^a-zA-Z0-9 ]',r'',tweet_text)\n",
    "    result = \"\"\n",
    "    for word in tweet_text.split():            \n",
    "        result = result +\" \"+word.lower()\n",
    "\n",
    "    return result.lstrip()\n",
    "\n",
    "def get_word_frequency(tweet_list):\n",
    "    word_dict = {} \n",
    "    result_array=[]\n",
    "    for tw in tweet_list:\n",
    "        for word in tw.split():\n",
    "            if word in word_dict.keys():\n",
    "                word_dict[word] = word_dict[word]+1\n",
    "                continue\n",
    "            word_dict[word] = 1\n",
    "    for k in word_dict.keys():\n",
    "        result_array.append({'word':k, 'count':word_dict[k]})\n",
    "    return pd.DataFrame(result_array,columns=['count','word'])\n",
    "\n",
    "\n",
    "def common_pos_words(df_data):\n",
    "    return common_words_filter(df_data,1)\n",
    "\n",
    "def common_neg_words(df_data):\n",
    "    return common_words_filter(df_data,0)\n",
    "\n",
    "def common_words_filter(df_data,sent):\n",
    "    pos_tweet =df_data[df_data[\"positive\"] ==sent]\n",
    "    all_tweets = pos_tweet[\"tweet\"].str.cat(sep='|')\n",
    "    common_words=[]\n",
    "    for pos_tw in pos_tweet[\"tweet\"]:\n",
    "        for tw in all_tweets.split('|'):\n",
    "            if pos_tw == tw:\n",
    "                continue\n",
    "            tw_list = list(tw.split())\n",
    "            pos_list = list(pos_tw.split())\n",
    "            inter = list(set(tw_list).intersection(pos_list))\n",
    "            for word in inter:\n",
    "                if word not in common_words:\n",
    "                    common_words.append(word)\n",
    "    return common_words"
   ]
  },
  {
   "cell_type": "code",
   "execution_count": 3,
   "metadata": {
    "collapsed": false
   },
   "outputs": [
    {
     "name": "stdout",
     "output_type": "stream",
     "text": [
      "All data: 7087\n"
     ]
    }
   ],
   "source": [
    "training_data = training_data_df(training_path)\n",
    "# test_data = training_data_df(test_path)\n",
    "training_data[\"neg\"] = training_data[\"positive\"].apply(lambda x: 0 if x==1 else 1)\n",
    "vect = CountVectorizer(stop_words=all_stop_words())\n",
    "print(\"All data:\",training_data.shape[0])\n",
    "# print(\"Test data:\",test_data.shape[0])"
   ]
  },
  {
   "cell_type": "code",
   "execution_count": 4,
   "metadata": {
    "collapsed": false
   },
   "outputs": [
    {
     "data": {
      "text/html": [
       "<div>\n",
       "<table border=\"1\" class=\"dataframe\">\n",
       "  <thead>\n",
       "    <tr style=\"text-align: right;\">\n",
       "      <th></th>\n",
       "      <th>cleaned_tweet</th>\n",
       "      <th>positive</th>\n",
       "      <th>tweet</th>\n",
       "      <th>neg</th>\n",
       "    </tr>\n",
       "  </thead>\n",
       "  <tbody>\n",
       "    <tr>\n",
       "      <th>0</th>\n",
       "      <td>i feeel like aaa reetard</td>\n",
       "      <td>0</td>\n",
       "      <td>i feeel like aaa reetard\\n</td>\n",
       "      <td>1</td>\n",
       "    </tr>\n",
       "    <tr>\n",
       "      <th>1</th>\n",
       "      <td>the da vinci code book is just awesome</td>\n",
       "      <td>1</td>\n",
       "      <td>the da vinci code book is just awesome.\\n</td>\n",
       "      <td>0</td>\n",
       "    </tr>\n",
       "    <tr>\n",
       "      <th>2</th>\n",
       "      <td>this was the first clive cussler ive ever read...</td>\n",
       "      <td>1</td>\n",
       "      <td>this was the first clive cussler i've ever rea...</td>\n",
       "      <td>0</td>\n",
       "    </tr>\n",
       "    <tr>\n",
       "      <th>3</th>\n",
       "      <td>i liked the da vinci code a lot</td>\n",
       "      <td>1</td>\n",
       "      <td>i liked the da vinci code a lot.\\n</td>\n",
       "      <td>0</td>\n",
       "    </tr>\n",
       "    <tr>\n",
       "      <th>4</th>\n",
       "      <td>i liked the da vinci code a lot</td>\n",
       "      <td>1</td>\n",
       "      <td>i liked the da vinci code a lot.\\n</td>\n",
       "      <td>0</td>\n",
       "    </tr>\n",
       "    <tr>\n",
       "      <th>5</th>\n",
       "      <td>i liked the da vinci code but it ultimatly did...</td>\n",
       "      <td>1</td>\n",
       "      <td>i liked the da vinci code but it ultimatly did...</td>\n",
       "      <td>0</td>\n",
       "    </tr>\n",
       "    <tr>\n",
       "      <th>6</th>\n",
       "      <td>thats not even an exaggeration and at midnight...</td>\n",
       "      <td>1</td>\n",
       "      <td>that's not even an exaggeration ) and at midni...</td>\n",
       "      <td>0</td>\n",
       "    </tr>\n",
       "    <tr>\n",
       "      <th>7</th>\n",
       "      <td>i loved the da vinci code but now i want somet...</td>\n",
       "      <td>1</td>\n",
       "      <td>i loved the da vinci code, but now i want some...</td>\n",
       "      <td>0</td>\n",
       "    </tr>\n",
       "    <tr>\n",
       "      <th>8</th>\n",
       "      <td>i thought da vinci code was great same with ki...</td>\n",
       "      <td>1</td>\n",
       "      <td>i thought da vinci code was great, same with k...</td>\n",
       "      <td>0</td>\n",
       "    </tr>\n",
       "    <tr>\n",
       "      <th>9</th>\n",
       "      <td>the da vinci code is actually a good movie</td>\n",
       "      <td>1</td>\n",
       "      <td>the da vinci code is actually a good movie...\\n</td>\n",
       "      <td>0</td>\n",
       "    </tr>\n",
       "  </tbody>\n",
       "</table>\n",
       "</div>"
      ],
      "text/plain": [
       "                                       cleaned_tweet  positive  \\\n",
       "0                           i feeel like aaa reetard         0   \n",
       "1             the da vinci code book is just awesome         1   \n",
       "2  this was the first clive cussler ive ever read...         1   \n",
       "3                    i liked the da vinci code a lot         1   \n",
       "4                    i liked the da vinci code a lot         1   \n",
       "5  i liked the da vinci code but it ultimatly did...         1   \n",
       "6  thats not even an exaggeration and at midnight...         1   \n",
       "7  i loved the da vinci code but now i want somet...         1   \n",
       "8  i thought da vinci code was great same with ki...         1   \n",
       "9         the da vinci code is actually a good movie         1   \n",
       "\n",
       "                                               tweet  neg  \n",
       "0                         i feeel like aaa reetard\\n    1  \n",
       "1          the da vinci code book is just awesome.\\n    0  \n",
       "2  this was the first clive cussler i've ever rea...    0  \n",
       "3                 i liked the da vinci code a lot.\\n    0  \n",
       "4                 i liked the da vinci code a lot.\\n    0  \n",
       "5  i liked the da vinci code but it ultimatly did...    0  \n",
       "6  that's not even an exaggeration ) and at midni...    0  \n",
       "7  i loved the da vinci code, but now i want some...    0  \n",
       "8  i thought da vinci code was great, same with k...    0  \n",
       "9    the da vinci code is actually a good movie...\\n    0  "
      ]
     },
     "execution_count": 4,
     "metadata": {},
     "output_type": "execute_result"
    }
   ],
   "source": [
    "training_data.head(10)\n"
   ]
  },
  {
   "cell_type": "code",
   "execution_count": 5,
   "metadata": {
    "collapsed": false
   },
   "outputs": [
    {
     "data": {
      "text/plain": [
       "array([[0, 1, 'i feeel like aaa reetard', 'i feeel like aaa reetard\\n'],\n",
       "       [1, 0, 'the da vinci code book is just awesome',\n",
       "        'the da vinci code book is just awesome.\\n'],\n",
       "       [1, 0,\n",
       "        'this was the first clive cussler ive ever read but even books like relic and da vinci code were more plausible than this',\n",
       "        \"this was the first clive cussler i've ever read, but even books like relic, and da vinci code were more plausible than this.\\n\"],\n",
       "       ..., \n",
       "       [0, 1,\n",
       "        'as i sit here watching the mtv movie awards i am reminded of how much i despised the movie brokeback mountain',\n",
       "        'as i sit here, watching the mtv movie awards, i am reminded of how much i despised the movie brokeback mountain.\\n'],\n",
       "       [0, 1, 'ok brokeback mountain is such a horrible movie',\n",
       "        'ok brokeback mountain is such a horrible movie.\\n'],\n",
       "       [0, 1, 'oh and brokeback mountain was a terrible movie',\n",
       "        'oh, and brokeback mountain was a terrible movie.\\n']], dtype=object)"
      ]
     },
     "execution_count": 5,
     "metadata": {},
     "output_type": "execute_result"
    }
   ],
   "source": [
    "training_data = training_data[['positive','neg','cleaned_tweet', 'tweet']]\n",
    "training_data.values"
   ]
  },
  {
   "cell_type": "markdown",
   "metadata": {},
   "source": [
    "### One-hot Encode"
   ]
  },
  {
   "cell_type": "code",
   "execution_count": 6,
   "metadata": {
    "collapsed": false
   },
   "outputs": [
    {
     "name": "stdout",
     "output_type": "stream",
     "text": [
      "(7087, 2072)\n"
     ]
    }
   ],
   "source": [
    "vect.fit(training_data[\"cleaned_tweet\"])\n",
    "word_matrix = vect.transform(training_data[\"cleaned_tweet\"]).toarray()\n",
    "print(word_matrix.shape)"
   ]
  },
  {
   "cell_type": "code",
   "execution_count": 7,
   "metadata": {
    "collapsed": false
   },
   "outputs": [
    {
     "name": "stdout",
     "output_type": "stream",
     "text": [
      "Total features:  2072\n"
     ]
    }
   ],
   "source": [
    "num_features = word_matrix.shape[1]\n",
    "print(\"Total features: \",num_features)\n",
    "classes = training_data.values[:,:2]"
   ]
  },
  {
   "cell_type": "code",
   "execution_count": 8,
   "metadata": {
    "collapsed": false
   },
   "outputs": [
    {
     "name": "stdout",
     "output_type": "stream",
     "text": [
      "Training data: 5315\n",
      "Test data: 1772\n"
     ]
    }
   ],
   "source": [
    "trX,testX,trY,testY = train_test_split(word_matrix,classes)   \n",
    "print(\"Training data:\",trX.shape[0])\n",
    "print(\"Test data:\",testX.shape[0])"
   ]
  },
  {
   "cell_type": "markdown",
   "metadata": {},
   "source": [
    "# Deep Neural Network\n",
    "\n",
    "\n",
    "Consists of : \n",
    "<ul>\n",
    "<li>Input layer </li> \n",
    "<li>Hidden layer with 300 neurons</li> \n",
    "<li>Output softmax layer, which outputs the likelyhood of a class: [1,0]</li>\n",
    "</ul>"
   ]
  },
  {
   "cell_type": "markdown",
   "metadata": {},
   "source": [
    "<img src=\"./data/nn-architecture.png\"/>"
   ]
  },
  {
   "cell_type": "code",
   "execution_count": 10,
   "metadata": {
    "collapsed": false
   },
   "outputs": [],
   "source": [
    "tf.reset_default_graph()\n",
    "input_data = tflearn.input_data(shape=[None, num_features])\n",
    "init_weights = tflearn.initializations.truncated_normal(shape=None,dtype=tf.float32, seed=None)\n",
    "layer1 = tflearn.layers.fully_connected(input_data,300,activation='sigmoid',weights_init=init_weights,regularizer='L2')\n",
    "dp = tflearn.dropout(layer1,0.5)\n",
    "net  =tflearn.layers.fully_connected(dp , 2,activation='softmax',regularizer='L2')\n",
    "net = tflearn.regression(net, optimizer='adam', loss='categorical_crossentropy')\n",
    "model = tflearn.DNN(net,tensorboard_verbose=3)\n"
   ]
  },
  {
   "cell_type": "code",
   "execution_count": 167,
   "metadata": {
    "collapsed": false
   },
   "outputs": [
    {
     "name": "stdout",
     "output_type": "stream",
     "text": [
      "Training Step: 839  | total loss: \u001b[1m\u001b[32m0.10739\u001b[0m\u001b[0m | time: 5.976s\n",
      "| Adam | epoch: 010 | loss: 0.10739 - acc: 0.9725 -- iter: 5312/5315\n",
      "Training Step: 840  | total loss: \u001b[1m\u001b[32m0.10491\u001b[0m\u001b[0m | time: 6.046s\n",
      "| Adam | epoch: 010 | loss: 0.10491 - acc: 0.9722 -- iter: 5315/5315\n",
      "--\n",
      "Evaluation:  [0.98702031454706296]\n"
     ]
    }
   ],
   "source": [
    "model.fit(trX,trY,n_epoch=10,show_metric=True)\n",
    "evl = model.evaluate(testX,testY)\n",
    "print(\"Evaluation: \",evl)"
   ]
  },
  {
   "cell_type": "code",
   "execution_count": 160,
   "metadata": {
    "collapsed": false
   },
   "outputs": [
    {
     "name": "stdout",
     "output_type": "stream",
     "text": [
      "             precision    recall  f1-score   support\n",
      "\n",
      "        0.0       0.99      0.99      0.99       791\n",
      "        1.0       0.99      0.99      0.99       981\n",
      "\n",
      "avg / total       0.99      0.99      0.99      1772\n",
      "\n",
      "[[780  11]\n",
      " [  8 973]]\n",
      "AUC = 0.9890\n"
     ]
    },
    {
     "data": {
      "image/png": "[encoded data removed]",
      "text/plain": [
       "<matplotlib.figure.Figure at 0x10434cd30>"
      ]
     },
     "metadata": {},
     "output_type": "display_data"
    }
   ],
   "source": [
    "from sklearn.metrics import roc_curve, auc\n",
    "from sklearn import metrics\n",
    "import matplotlib.pyplot as plt\n",
    "def auc_curve():\n",
    "    test_y=testY[:,0]\n",
    "    pred = []\n",
    "    i=0\n",
    "    for t in testX:\n",
    "        p = model.predict([t])\n",
    "        p_toarray = np.asarray(p)[0]\n",
    "        if p_toarray[0]>p_toarray[1]:\n",
    "            pred.append(1.0)\n",
    "        else:\n",
    "            pred.append(0.0)\n",
    "    print(metrics.classification_report(test_y.astype(float), np.asarray(pred)))\n",
    "    print(metrics.confusion_matrix(test_y.astype(float), pred))\n",
    "    fpr, tpr, thresholds = metrics.roc_curve(test_y, np.asarray(pred))\n",
    "    roc_auc = auc(fpr, tpr)\n",
    "    print('AUC = %0.4f'% roc_auc)\n",
    "    plt.title('Receiver Operating Characteristic')\n",
    "    plt.plot(fpr, tpr, 'b',\n",
    "    label='AUC = %0.2f'% roc_auc)\n",
    "    plt.legend(loc='lower right')\n",
    "    plt.plot([0,1],[0,1],'r--')\n",
    "    plt.xlim([-0.1,1.2])\n",
    "    plt.ylim([-0.1,1.2])\n",
    "    plt.ylabel('True Positive Sentiment Rate')\n",
    "    plt.xlabel('False Positive Sentiment Rate')\n",
    "    plt.show()\n",
    "    \n",
    "\n",
    "auc_curve()"
   ]
  },
  {
   "cell_type": "markdown",
   "metadata": {},
   "source": [
    "# Inspecting training data"
   ]
  },
  {
   "cell_type": "markdown",
   "metadata": {},
   "source": [
    "### Positive sentiment"
   ]
  },
  {
   "cell_type": "code",
   "execution_count": 161,
   "metadata": {
    "collapsed": false
   },
   "outputs": [
    {
     "name": "stdout",
     "output_type": "stream",
     "text": [
      "Tweet: the da vinci code book is just awesome.\n",
      "\n",
      "[ 0.95302999  0.04696997]\n",
      "sentiment: positive\n",
      "--------\n",
      "Tweet: this was the first clive cussler i've ever read, but even books like relic, and da vinci code were more plausible than this.\n",
      "\n",
      "[ 0.87887669  0.12112329]\n",
      "sentiment: positive\n",
      "--------\n",
      "Tweet: i liked the da vinci code a lot.\n",
      "\n",
      "[ 0.72634131  0.27365869]\n",
      "sentiment: positive\n",
      "--------\n",
      "Tweet: i liked the da vinci code a lot.\n",
      "\n",
      "[ 0.72634131  0.27365869]\n",
      "sentiment: positive\n",
      "--------\n",
      "Tweet: i liked the da vinci code but it ultimatly didn't seem to hold it's own.\n",
      "\n",
      "[ 0.80330151  0.19669852]\n",
      "sentiment: positive\n",
      "--------\n",
      "Tweet: that's not even an exaggeration ) and at midnight we went to wal-mart to buy the da vinci code, which is amazing of course.\n",
      "\n",
      "[ 0.27423972  0.72576028]\n",
      "sentiment: negative\n",
      "--------\n",
      "Tweet: i loved the da vinci code, but now i want something better and different!..\n",
      "\n",
      "[ 0.91149944  0.08850054]\n",
      "sentiment: positive\n",
      "--------\n",
      "Tweet: i thought da vinci code was great, same with kite runner.\n",
      "\n",
      "[ 0.57611811  0.42388189]\n",
      "sentiment: positive\n",
      "--------\n",
      "Tweet: the da vinci code is actually a good movie...\n",
      "\n",
      "[ 0.4105213   0.58947867]\n",
      "sentiment: negative\n",
      "--------\n",
      "Tweet: i thought the da vinci code was a pretty good book.\n",
      "\n",
      "[ 0.72837681  0.27162322]\n",
      "sentiment: positive\n",
      "--------\n"
     ]
    }
   ],
   "source": [
    "for t in training_data[training_data[\"positive\"] ==1][\"tweet\"].head(10):\n",
    "    print(\"Tweet:\",t)\n",
    "    enc = vect.transform([t]).toarray()\n",
    "    p = model.predict(enc)\n",
    "    print(np.asarray(p)[0])\n",
    "    print(\"sentiment:\",sentiment(np.asarray(p)[0]))\n",
    "    print('--------')"
   ]
  },
  {
   "cell_type": "markdown",
   "metadata": {},
   "source": [
    "### Negative sentiment"
   ]
  },
  {
   "cell_type": "code",
   "execution_count": 156,
   "metadata": {
    "collapsed": false
   },
   "outputs": [
    {
     "name": "stdout",
     "output_type": "stream",
     "text": [
      "Tweet: i feeel like aaa reetard\n",
      "\n",
      "[ 0.57383108  0.42616895]\n",
      "sentiment: positive\n",
      "--------\n",
      "Tweet: da vinci code was a terrible movie.\n",
      "\n",
      "[ 0.46458665  0.53541332]\n",
      "sentiment: negative\n",
      "--------\n",
      "Tweet: then again, the da vinci code is super shitty movie, and it made like 700 million.\n",
      "\n",
      "[ 0.49910405  0.50089592]\n",
      "sentiment: negative\n",
      "--------\n",
      "Tweet: the da vinci code comes out tomorrow, which sucks.\n",
      "\n",
      "[ 0.41503838  0.58496159]\n",
      "sentiment: negative\n",
      "--------\n",
      "Tweet: i thought the da vinci code movie was really boring.\n",
      "\n",
      "[ 0.47030842  0.52969158]\n",
      "sentiment: negative\n",
      "--------\n",
      "Tweet: god, yahoo games has this truly-awful looking da vinci code-themed skin on it's chessboard right now.\n",
      "\n",
      "[ 0.49093878  0.50906122]\n",
      "sentiment: negative\n",
      "--------\n",
      "Tweet: da vinci code does suck.\n",
      "\n",
      "[ 0.46278223  0.53721774]\n",
      "sentiment: negative\n",
      "--------\n",
      "Tweet: and better...-we all know da vinci code is bogus and inaccurate.\n",
      "\n",
      "[ 0.43719253  0.56280756]\n",
      "sentiment: negative\n",
      "--------\n",
      "Tweet: last time, da vinci code is also a bit disappointing to me, because many things written in the book is never mentioned in movie.\n",
      "\n",
      "[ 0.468481  0.531519]\n",
      "sentiment: negative\n",
      "--------\n",
      "Tweet: and better...-we all know da vinci code is bogus and inaccurate.\n",
      "\n",
      "[ 0.43719253  0.56280756]\n",
      "sentiment: negative\n",
      "--------\n"
     ]
    }
   ],
   "source": [
    "\n",
    "for t in training_data[training_data[\"positive\"] ==0][\"tweet\"].head(10):\n",
    "    print(\"Tweet:\",t)\n",
    "    enc = vect.transform([t]).toarray()\n",
    "    p = model.predict(enc)\n",
    "    print(np.asarray(p)[0])\n",
    "    print(\"sentiment:\",sentiment(np.asarray(p)[0]))\n",
    "    print('--------')"
   ]
  },
  {
   "cell_type": "markdown",
   "metadata": {},
   "source": [
    "### Custom data"
   ]
  },
  {
   "cell_type": "code",
   "execution_count": 157,
   "metadata": {
    "collapsed": false
   },
   "outputs": [
    {
     "name": "stdout",
     "output_type": "stream",
     "text": [
      "Tweet: this was ok\n",
      "[ 0.51919967  0.48080033]\n",
      "sentiment: positive\n",
      "--------\n",
      "Tweet: I like this product but I am not satisfied\n",
      "[ 0.5688349   0.43116507]\n",
      "sentiment: positive\n",
      "--------\n",
      "Tweet: I FEEEL LIKE AAA REETARD\n",
      "[ 0.57383108  0.42616895]\n",
      "sentiment: positive\n",
      "--------\n"
     ]
    }
   ],
   "source": [
    "testing_tweets = [\"this was ok\",\"I like this product but I am not satisfied\",\"I FEEEL LIKE AAA REETARD\"\n",
    "]\n",
    "for t in testing_tweets:\n",
    "    print(\"Tweet:\",t)\n",
    "    enc = vect.transform([t]).toarray()\n",
    "    p = model.predict(enc)\n",
    "    print(np.asarray(p)[0])\n",
    "    print(\"sentiment:\",sentiment(np.asarray(p)[0]))\n",
    "    print('--------')"
   ]
  },
  {
   "cell_type": "code",
   "execution_count": 206,
   "metadata": {
    "collapsed": false
   },
   "outputs": [
    {
     "name": "stdout",
     "output_type": "stream",
     "text": [
      "\n"
     ]
    }
   ],
   "source": [
    "print(vect.transform([\"satisfied\"]))"
   ]
  },
  {
   "cell_type": "code",
   "execution_count": null,
   "metadata": {
    "collapsed": true
   },
   "outputs": [],
   "source": []
  }
 ],
 "metadata": {
  "kernelspec": {
   "display_name": "Python 3",
   "language": "python",
   "name": "python3"
  },
  "language_info": {
   "codemirror_mode": {
    "name": "ipython",
    "version": 3
   },
   "file_extension": ".py",
   "mimetype": "text/x-python",
   "name": "python",
   "nbconvert_exporter": "python",
   "pygments_lexer": "ipython3",
   "version": "3.5.1"
  }
 },
 "nbformat": 4,
 "nbformat_minor": 1
}
