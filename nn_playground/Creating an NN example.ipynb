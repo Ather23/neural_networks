{
 "cells": [
  {
   "cell_type": "code",
   "execution_count": 78,
   "metadata": {
    "collapsed": false
   },
   "outputs": [
    {
     "ename": "TypeError",
     "evalue": "Can only append a Series if ignore_index=True or if the Series has a name",
     "output_type": "error",
     "traceback": [
      "\u001b[0;31m---------------------------------------------------------------------------\u001b[0m",
      "\u001b[0;31mTypeError\u001b[0m                                 Traceback (most recent call last)",
      "\u001b[0;32m<ipython-input-78-e1fc4b845da4>\u001b[0m in \u001b[0;36m<module>\u001b[0;34m()\u001b[0m\n\u001b[1;32m     19\u001b[0m \u001b[0;34m\u001b[0m\u001b[0m\n\u001b[1;32m     20\u001b[0m \u001b[0mx_values\u001b[0m \u001b[0;34m=\u001b[0m \u001b[0mrange\u001b[0m\u001b[0;34m(\u001b[0m\u001b[0;36m0\u001b[0m\u001b[0;34m,\u001b[0m\u001b[0;36m9\u001b[0m\u001b[0;34m)\u001b[0m\u001b[0;34m\u001b[0m\u001b[0m\n\u001b[0;32m---> 21\u001b[0;31m \u001b[0mmain_eq\u001b[0m \u001b[0;34m=\u001b[0m\u001b[0mequation_generator\u001b[0m\u001b[0;34m(\u001b[0m\u001b[0mx_values\u001b[0m\u001b[0;34m,\u001b[0m\u001b[0;36m2\u001b[0m\u001b[0;34m,\u001b[0m\u001b[0;36m2\u001b[0m\u001b[0;34m,\u001b[0m\u001b[0;36m1\u001b[0m\u001b[0;34m)\u001b[0m\u001b[0;34m\u001b[0m\u001b[0m\n\u001b[0m\u001b[1;32m     22\u001b[0m \u001b[0mprint\u001b[0m\u001b[0;34m(\u001b[0m\u001b[0mmain_eq\u001b[0m\u001b[0;34m)\u001b[0m\u001b[0;34m\u001b[0m\u001b[0m\n\u001b[1;32m     23\u001b[0m \u001b[0meq_2\u001b[0m \u001b[0;34m=\u001b[0m \u001b[0mequation_generator\u001b[0m\u001b[0;34m(\u001b[0m\u001b[0mx_values\u001b[0m\u001b[0;34m,\u001b[0m\u001b[0;36m2\u001b[0m\u001b[0;34m,\u001b[0m\u001b[0;36m4\u001b[0m\u001b[0;34m,\u001b[0m\u001b[0;36m0\u001b[0m\u001b[0;34m)\u001b[0m\u001b[0;34m\u001b[0m\u001b[0m\n",
      "\u001b[0;32m<ipython-input-78-e1fc4b845da4>\u001b[0m in \u001b[0;36mequation_generator\u001b[0;34m(x_values, gradient, c, label)\u001b[0m\n\u001b[1;32m     13\u001b[0m     \u001b[0;32mfor\u001b[0m \u001b[0mx\u001b[0m \u001b[0;32min\u001b[0m \u001b[0mx_values\u001b[0m\u001b[0;34m:\u001b[0m\u001b[0;34m\u001b[0m\u001b[0m\n\u001b[1;32m     14\u001b[0m         \u001b[0my\u001b[0m\u001b[0;34m=\u001b[0m \u001b[0mgradient\u001b[0m\u001b[0;34m*\u001b[0m\u001b[0mx\u001b[0m\u001b[0;34m+\u001b[0m\u001b[0mc\u001b[0m\u001b[0;34m\u001b[0m\u001b[0m\n\u001b[0;32m---> 15\u001b[0;31m         \u001b[0mresult\u001b[0m\u001b[0;34m.\u001b[0m\u001b[0mappend\u001b[0m\u001b[0;34m(\u001b[0m\u001b[0;34m{\u001b[0m\u001b[0;34m'x'\u001b[0m\u001b[0;34m:\u001b[0m\u001b[0mx\u001b[0m\u001b[0;34m,\u001b[0m\u001b[0;34m'y'\u001b[0m\u001b[0;34m:\u001b[0m\u001b[0my\u001b[0m\u001b[0;34m,\u001b[0m\u001b[0;34m'label'\u001b[0m\u001b[0;34m:\u001b[0m\u001b[0mlabel\u001b[0m\u001b[0;34m}\u001b[0m\u001b[0;34m)\u001b[0m\u001b[0;34m\u001b[0m\u001b[0m\n\u001b[0m\u001b[1;32m     16\u001b[0m         \u001b[0mi\u001b[0m\u001b[0;34m=\u001b[0m\u001b[0mi\u001b[0m\u001b[0;34m+\u001b[0m\u001b[0;36m1\u001b[0m\u001b[0;34m\u001b[0m\u001b[0m\n\u001b[1;32m     17\u001b[0m     \u001b[0;32mreturn\u001b[0m \u001b[0mresult\u001b[0m\u001b[0;34m\u001b[0m\u001b[0m\n",
      "\u001b[0;32m/Users/ather/Library/Python/3.5/lib/python/site-packages/pandas/core/frame.py\u001b[0m in \u001b[0;36mappend\u001b[0;34m(self, other, ignore_index, verify_integrity)\u001b[0m\n\u001b[1;32m   4312\u001b[0m                 \u001b[0mother\u001b[0m \u001b[0;34m=\u001b[0m \u001b[0mSeries\u001b[0m\u001b[0;34m(\u001b[0m\u001b[0mother\u001b[0m\u001b[0;34m)\u001b[0m\u001b[0;34m\u001b[0m\u001b[0m\n\u001b[1;32m   4313\u001b[0m             \u001b[0;32mif\u001b[0m \u001b[0mother\u001b[0m\u001b[0;34m.\u001b[0m\u001b[0mname\u001b[0m \u001b[0;32mis\u001b[0m \u001b[0;32mNone\u001b[0m \u001b[0;32mand\u001b[0m \u001b[0;32mnot\u001b[0m \u001b[0mignore_index\u001b[0m\u001b[0;34m:\u001b[0m\u001b[0;34m\u001b[0m\u001b[0m\n\u001b[0;32m-> 4314\u001b[0;31m                 raise TypeError('Can only append a Series if ignore_index=True'\n\u001b[0m\u001b[1;32m   4315\u001b[0m                                 ' or if the Series has a name')\n\u001b[1;32m   4316\u001b[0m \u001b[0;34m\u001b[0m\u001b[0m\n",
      "\u001b[0;31mTypeError\u001b[0m: Can only append a Series if ignore_index=True or if the Series has a name"
     ]
    }
   ],
   "source": [
    "import numpy as np\n",
    "import pandas as pd\n",
    "import random\n",
    "import matplotlib.pyplot as plt\n",
    "import random as rd\n",
    "from random import choice\n",
    "\n",
    "def equation_generator (x_values,gradient,c,label):\n",
    "    result =pd.DataFrame(columns=['x','y','label'],index=['x'])\n",
    "    m=gradient\n",
    "    constant = c\n",
    "    i=0\n",
    "    for x in x_values:    \n",
    "        y= gradient*x+c\n",
    "        result.append({'x':x,'y':y,'label':label})\n",
    "        i=i+1\n",
    "    return result\n",
    "\n",
    "\n",
    "x_values = range(0,9)\n",
    "main_eq =equation_generator(x_values,2,2,1)\n",
    "print(main_eq)\n",
    "eq_2 = equation_generator(x_values,2,4,0)\n",
    "eq_3 = equation_generator(x_values,2,1,0)\n",
    "\n",
    "training_data =pd.DataFrame([main_eq,eq_2,eq_3],columns=['x','y','label'])\n",
    "print(training_data)\n",
    "# x_o, expected = choice(training_data)\n"
   ]
  },
  {
   "cell_type": "code",
   "execution_count": null,
   "metadata": {
    "collapsed": false
   },
   "outputs": [],
   "source": [
    "print(main_eq[wrong_output>main_eq])\n",
    "print (main_eq[wrong_output<main_eq])"
   ]
  },
  {
   "cell_type": "code",
   "execution_count": null,
   "metadata": {
    "collapsed": true
   },
   "outputs": [],
   "source": [
    "def linear_function(gradient,c,computed_vector):\n",
    "    result = np.zeros(len(computed_vector))\n",
    "    max_len = len(output_vector)\n",
    "    i=0\n",
    "    for o in output_vector:\n",
    "        y = gradient*o + c\n",
    "        if(y>)\n",
    "        if o <0:result[i] = 0\n",
    "        elif o>0:result[i]=1\n",
    "        i=i+1\n",
    "    return np.array(result)\n",
    "\n",
    "\n",
    "def linear_neuron():\n",
    "    pred_y = 0\n",
    "    weights = weights_init\n",
    "    epsilon = np.ones(4)*0.0001\n",
    "    output_delta = np.zeros(4)\n",
    "    i = 0\n",
    "    classi_error = 100\n",
    "    while classi_error>0.5: \n",
    "        w_dot_i = np.dot(weights,input_matrix.T)\n",
    "        print(w_dot_i)\n",
    "        computed_output = step_function(w_dot_i)\n",
    "        print(computed_output)\n",
    "        print(\"computed \",computed_output)\n",
    "        output_delta =  output -computed_output\n",
    "        print(\"Output delta \",output_delta)\n",
    "        print(i)\n",
    "        classi_error = classification_error(computed_output,output)\n",
    "        print(\"class error \",classi_error)\n",
    "        w_delta = np.dot(output_delta,input_matrix)\n",
    "        print(\"w delta \",w_delta)\n",
    "        weights = weights + w_delta\n",
    "    print(\"class error \",classi_error)\n",
    "    return weights\n",
    "\n",
    "def classification_error(computed_output,output):\n",
    "    total_correct = np.sum(computed_output == output) \n",
    "    total_incorrect = np.sum(computed_output!=output)\n",
    "    pc_correct = total_incorrect/len(output)\n",
    "    return pc_correct"
   ]
  },
  {
   "cell_type": "code",
   "execution_count": null,
   "metadata": {
    "collapsed": true
   },
   "outputs": [],
   "source": []
  }
 ],
 "metadata": {
  "kernelspec": {
   "display_name": "Python 3",
   "language": "python",
   "name": "python3"
  },
  "language_info": {
   "codemirror_mode": {
    "name": "ipython",
    "version": 3
   },
   "file_extension": ".py",
   "mimetype": "text/x-python",
   "name": "python",
   "nbconvert_exporter": "python",
   "pygments_lexer": "ipython3",
   "version": "3.5.1"
  }
 },
 "nbformat": 4,
 "nbformat_minor": 1
}
